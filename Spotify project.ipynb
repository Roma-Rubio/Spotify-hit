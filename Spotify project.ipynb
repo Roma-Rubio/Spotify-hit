{
 "cells": [
  {
   "cell_type": "markdown",
   "metadata": {},
   "source": [
    "# How Machine Learning models can predicting if a track would be a \"Hit\" song or not \n",
    "\n",
    "This notebook looks into various Python-based machine learning and data science libraries, in an attempt to build a machine learning model capable of predicting whether a track would be a \"Hit\" or not, based on their attributes.\n",
    "\n",
    "We are going to take the following approach:\n",
    "1. Problem definition\n",
    "2. Data\n",
    "3. Evaluation\n",
    "4. Features\n",
    "5. Modelling\n",
    "6. Experimentation\n",
    "\n",
    "## 1. Problem Definition\n",
    "\n",
    "> Given musical parameters about a track, can we predict whether or not it would be a \"Hit\" or not?\n",
    "\n",
    "## 2. Data\n",
    "\n",
    "This is a dataset consisting of features for tracks fetched using Spotify's Web API. The tracks are labeled '1' or '0' ('Hit' or 'Flop') depending on some criteria of the author.\n",
    "The dataset starting from Jan 1st, 2010, ending at Dec 31st, 2019.\n",
    "\n",
    "The dataset has been downloaded from Kaggle:\n",
    "https://www.kaggle.com/theoverman/the-spotify-hit-predictor-dataset?select=dataset-of-10s.csv\n",
    "\n",
    "## 3. Evaluation\n",
    "\n",
    "> If we can reach X% accuracy whether or not a track would be a hit during the proof of concept, we will pursue the project\n",
    "\n",
    "## 4. Features\n",
    "\n",
    "Attributes information\n",
    "1. track: The Name of the track.\n",
    "\n",
    "2. artist: The Name of the Artist.\n",
    "\n",
    "3. uri: The resource identifier for the track.\n",
    "\n",
    "4. danceability: describes how suitable a track is for dancing. A value of 0.0 is least danceable and 1.0 is most danceable. \n",
    "\n",
    "5. energy:measure from 0.0 to 1.0 and represents a perceptual measure of intensity and activity. Typically, energetic tracks feel fast, loud, and noisy. For example, death metal has high energy, while a Bach prelude scores low on the scale. Perceptual features contributing to this attribute include dynamic range, perceived loudness, timbre, onset rate, and general entropy. \n",
    "\n",
    "6. key: The estimated overall key of the track. Integers map to pitches using standard Pitch Class notation. E.g. 0 = C, 1 = C?/D?, 2 = D, and so on. If no key was detected, the value is -1.\n",
    "\n",
    "7. loudness: The overall loudness of a track in decibels (dB).Values typical range between -60 and 0 db. \n",
    "\n",
    "8. mode: indicates the modality (major or minor) of a track, the type of scale from which its melodic content is derived. Major is represented by 1 and minor is 0.\n",
    "\n",
    "9. speechiness: Speechiness detects the presence of spoken words in a track. The more exclusively speech-like the recording (e.g. talk show, audio book, poetry), the closer to 1.0 the attribute value. Values above 0.66 describe tracks that are probably made entirely of spoken words. Values between 0.33 and 0.66 describe tracks that may contain both music and speech, either in sections or layered, including such cases as rap music. Values below 0.33 most likely represent music and other non-speech-like tracks. \n",
    "\n",
    "10. acousticness: A confidence measure from 0.0 to 1.0 of whether the track is acoustic. 1.0 represents high confidence the track is acoustic. The distribution of values for this feature look like this:\n",
    "\n",
    "11. instrumentalness: Predicts whether a track contains no vocals. “Ooh” and “aah” sounds are treated as instrumental in this context. Rap or spoken word tracks are clearly “vocal”. The closer the instrumentalness value is to 1.0, the greater likelihood the track contains no vocal content. Values above 0.5 are intended to represent instrumental tracks, but confidence is higher as the value approaches 1.0. \n",
    "\n",
    "12. liveness: Detects the presence of an audience in the recording. Higher liveness values represent an increased probability that the track was performed live. A value above 0.8 provides strong likelihood that the track is live.\n",
    "\n",
    "13. valence: A measure from 0.0 to 1.0 describing the musical positiveness conveyed by a track. Tracks with high valence sound more positive (e.g. happy, cheerful, euphoric), while tracks with low valence sound more negative (e.g. sad, depressed, angry).\n",
    "\n",
    "14. tempo: The overall estimated tempo of a track in beats per minute (BPM). In musical terminology, tempo is the speed or pace of a given piece and derives directly from the average beat duration. \n",
    "\n",
    "15. duration_ms:  The duration of the track in milliseconds.\n",
    "\n",
    "16. time_signature: An estimated overall time signature of a track. The time signature (meter) is a notational convention to specify how many beats are in each bar (or measure).\n",
    "\n",
    "17. chorus_hit: This the the author's best estimate of when the chorus would start for the track. Its the timestamp of the start of the third section of the track. This feature was extracted from the data received by the API call for Audio Analysis of that particular track.\n",
    "\n",
    "18. sections: The number of sections the particular track has. This feature was extracted from the data received by the API call for Audio Analysis of that particular track.\n",
    "\n",
    "19. target: The target variable for the track. It can be either '0' or '1'. '1' implies that this song has featured in the weekly list (Issued by Billboards) of Hot-100 tracks in that decade at least once and is therefore a 'hit'. '0' Implies that the track is a 'flop'.\n",
    "\n",
    "### Preparing the tools\n",
    "we are going to use pandas, matplotlib, numpy, seaborn"
   ]
  },
  {
   "cell_type": "code",
   "execution_count": 4,
   "metadata": {},
   "outputs": [
    {
     "name": "stdout",
     "output_type": "stream",
     "text": [
      "Requirement already satisfied: seaborn in ./env/lib/python3.8/site-packages (0.10.1)\n",
      "Requirement already satisfied: scipy>=1.0.1 in ./env/lib/python3.8/site-packages (from seaborn) (1.4.1)\n",
      "Requirement already satisfied: matplotlib>=2.1.2 in ./env/lib/python3.8/site-packages (from seaborn) (3.1.3)\n",
      "Requirement already satisfied: numpy>=1.13.3 in ./env/lib/python3.8/site-packages (from seaborn) (1.18.1)\n",
      "Requirement already satisfied: pandas>=0.22.0 in ./env/lib/python3.8/site-packages (from seaborn) (1.0.3)\n",
      "Requirement already satisfied: pyparsing!=2.0.4,!=2.1.2,!=2.1.6,>=2.0.1 in ./env/lib/python3.8/site-packages (from matplotlib>=2.1.2->seaborn) (2.4.7)\n",
      "Requirement already satisfied: python-dateutil>=2.1 in ./env/lib/python3.8/site-packages (from matplotlib>=2.1.2->seaborn) (2.8.1)\n",
      "Requirement already satisfied: kiwisolver>=1.0.1 in ./env/lib/python3.8/site-packages (from matplotlib>=2.1.2->seaborn) (1.2.0)\n",
      "Requirement already satisfied: cycler>=0.10 in ./env/lib/python3.8/site-packages (from matplotlib>=2.1.2->seaborn) (0.10.0)\n",
      "Requirement already satisfied: pytz>=2017.2 in ./env/lib/python3.8/site-packages (from pandas>=0.22.0->seaborn) (2020.1)\n",
      "Requirement already satisfied: six>=1.5 in ./env/lib/python3.8/site-packages (from python-dateutil>=2.1->matplotlib>=2.1.2->seaborn) (1.14.0)\n"
     ]
    }
   ],
   "source": [
    "!pip install seaborn"
   ]
  },
  {
   "cell_type": "code",
   "execution_count": 6,
   "metadata": {},
   "outputs": [],
   "source": [
    "# Import all the tools we need\n",
    "\n",
    "#Regular EDA(Exploratory data analysis) and plotting libraries\n",
    "import numpy as np\n",
    "import pandas as pd\n",
    "import matplotlib.pyplot as plt\n",
    "import seaborn as sns\n",
    "\n",
    "%matplotlib inline \n",
    "# we want our plot to appear inside the notebook\n",
    "\n",
    "# Models from Scikit-Learn\n",
    "from sklearn.linear_model import LogisticRegression\n",
    "from sklearn.neighbors import KNeighborsClassifier\n",
    "from sklearn.ensemble import RandomForestClassifier\n",
    "\n",
    "# Model Evaluations\n",
    "from sklearn.model_selection import train_test_split, cross_val_score\n",
    "from sklearn.model_selection import RandomizedSearchCV, GridSearchCV\n",
    "from sklearn.metrics import confusion_matrix ,precision_score, recall_score, f1_score\n",
    "from sklearn.metrics import plot_roc_curve\n",
    "\n"
   ]
  },
  {
   "cell_type": "markdown",
   "metadata": {},
   "source": [
    "# Load data\n"
   ]
  },
  {
   "cell_type": "code",
   "execution_count": 16,
   "metadata": {},
   "outputs": [],
   "source": [
    "df = pd.read_csv('https://raw.githubusercontent.com/fortyTwo102/The-Spotify-Hit-Predictor-Dataset/master/dataset-of-10s.csv')"
   ]
  },
  {
   "cell_type": "code",
   "execution_count": 20,
   "metadata": {},
   "outputs": [
    {
     "data": {
      "text/plain": [
       "(6398, 19)"
      ]
     },
     "execution_count": 20,
     "metadata": {},
     "output_type": "execute_result"
    }
   ],
   "source": [
    "df.shape\n"
   ]
  },
  {
   "cell_type": "code",
   "execution_count": 25,
   "metadata": {},
   "outputs": [],
   "source": [
    "## EDA:\n",
    "\n",
    "#1.\tWhat question(s) are you trying to solve (or prove wrong)?\n",
    "#2.\tWhat kind of data do you have and how do you treat different types?\n",
    "#3.\tWhat’s missing from the data and how do you deal with it?\n",
    "#4.\tWhere are the outliers and why should you care about them?\n",
    "#5.\tHow can you add, change or remove features to get more out of your data?\n"
   ]
  },
  {
   "cell_type": "code",
   "execution_count": 27,
   "metadata": {},
   "outputs": [
    {
     "data": {
      "text/html": [
       "<div>\n",
       "<style scoped>\n",
       "    .dataframe tbody tr th:only-of-type {\n",
       "        vertical-align: middle;\n",
       "    }\n",
       "\n",
       "    .dataframe tbody tr th {\n",
       "        vertical-align: top;\n",
       "    }\n",
       "\n",
       "    .dataframe thead th {\n",
       "        text-align: right;\n",
       "    }\n",
       "</style>\n",
       "<table border=\"1\" class=\"dataframe\">\n",
       "  <thead>\n",
       "    <tr style=\"text-align: right;\">\n",
       "      <th></th>\n",
       "      <th>track</th>\n",
       "      <th>artist</th>\n",
       "      <th>uri</th>\n",
       "      <th>danceability</th>\n",
       "      <th>energy</th>\n",
       "      <th>key</th>\n",
       "      <th>loudness</th>\n",
       "      <th>mode</th>\n",
       "      <th>speechiness</th>\n",
       "      <th>acousticness</th>\n",
       "      <th>instrumentalness</th>\n",
       "      <th>liveness</th>\n",
       "      <th>valence</th>\n",
       "      <th>tempo</th>\n",
       "      <th>duration_ms</th>\n",
       "      <th>time_signature</th>\n",
       "      <th>chorus_hit</th>\n",
       "      <th>sections</th>\n",
       "      <th>target</th>\n",
       "    </tr>\n",
       "  </thead>\n",
       "  <tbody>\n",
       "    <tr>\n",
       "      <th>0</th>\n",
       "      <td>Wild Things</td>\n",
       "      <td>Alessia Cara</td>\n",
       "      <td>spotify:track:2ZyuwVvV6Z3XJaXIFbspeE</td>\n",
       "      <td>0.741</td>\n",
       "      <td>0.626</td>\n",
       "      <td>1</td>\n",
       "      <td>-4.826</td>\n",
       "      <td>0</td>\n",
       "      <td>0.0886</td>\n",
       "      <td>0.02000</td>\n",
       "      <td>0.000</td>\n",
       "      <td>0.0828</td>\n",
       "      <td>0.706</td>\n",
       "      <td>108.029</td>\n",
       "      <td>188493</td>\n",
       "      <td>4</td>\n",
       "      <td>41.18681</td>\n",
       "      <td>10</td>\n",
       "      <td>1</td>\n",
       "    </tr>\n",
       "    <tr>\n",
       "      <th>1</th>\n",
       "      <td>Surfboard</td>\n",
       "      <td>Esquivel!</td>\n",
       "      <td>spotify:track:61APOtq25SCMuK0V5w2Kgp</td>\n",
       "      <td>0.447</td>\n",
       "      <td>0.247</td>\n",
       "      <td>5</td>\n",
       "      <td>-14.661</td>\n",
       "      <td>0</td>\n",
       "      <td>0.0346</td>\n",
       "      <td>0.87100</td>\n",
       "      <td>0.814</td>\n",
       "      <td>0.0946</td>\n",
       "      <td>0.250</td>\n",
       "      <td>155.489</td>\n",
       "      <td>176880</td>\n",
       "      <td>3</td>\n",
       "      <td>33.18083</td>\n",
       "      <td>9</td>\n",
       "      <td>0</td>\n",
       "    </tr>\n",
       "    <tr>\n",
       "      <th>2</th>\n",
       "      <td>Love Someone</td>\n",
       "      <td>Lukas Graham</td>\n",
       "      <td>spotify:track:2JqnpexlO9dmvjUMCaLCLJ</td>\n",
       "      <td>0.550</td>\n",
       "      <td>0.415</td>\n",
       "      <td>9</td>\n",
       "      <td>-6.557</td>\n",
       "      <td>0</td>\n",
       "      <td>0.0520</td>\n",
       "      <td>0.16100</td>\n",
       "      <td>0.000</td>\n",
       "      <td>0.1080</td>\n",
       "      <td>0.274</td>\n",
       "      <td>172.065</td>\n",
       "      <td>205463</td>\n",
       "      <td>4</td>\n",
       "      <td>44.89147</td>\n",
       "      <td>9</td>\n",
       "      <td>1</td>\n",
       "    </tr>\n",
       "    <tr>\n",
       "      <th>3</th>\n",
       "      <td>Music To My Ears (feat. Tory Lanez)</td>\n",
       "      <td>Keys N Krates</td>\n",
       "      <td>spotify:track:0cjfLhk8WJ3etPTCseKXtk</td>\n",
       "      <td>0.502</td>\n",
       "      <td>0.648</td>\n",
       "      <td>0</td>\n",
       "      <td>-5.698</td>\n",
       "      <td>0</td>\n",
       "      <td>0.0527</td>\n",
       "      <td>0.00513</td>\n",
       "      <td>0.000</td>\n",
       "      <td>0.2040</td>\n",
       "      <td>0.291</td>\n",
       "      <td>91.837</td>\n",
       "      <td>193043</td>\n",
       "      <td>4</td>\n",
       "      <td>29.52521</td>\n",
       "      <td>7</td>\n",
       "      <td>0</td>\n",
       "    </tr>\n",
       "    <tr>\n",
       "      <th>4</th>\n",
       "      <td>Juju On That Beat (TZ Anthem)</td>\n",
       "      <td>Zay Hilfigerrr &amp; Zayion McCall</td>\n",
       "      <td>spotify:track:1lItf5ZXJc1by9SbPeljFd</td>\n",
       "      <td>0.807</td>\n",
       "      <td>0.887</td>\n",
       "      <td>1</td>\n",
       "      <td>-3.892</td>\n",
       "      <td>1</td>\n",
       "      <td>0.2750</td>\n",
       "      <td>0.00381</td>\n",
       "      <td>0.000</td>\n",
       "      <td>0.3910</td>\n",
       "      <td>0.780</td>\n",
       "      <td>160.517</td>\n",
       "      <td>144244</td>\n",
       "      <td>4</td>\n",
       "      <td>24.99199</td>\n",
       "      <td>8</td>\n",
       "      <td>1</td>\n",
       "    </tr>\n",
       "  </tbody>\n",
       "</table>\n",
       "</div>"
      ],
      "text/plain": [
       "                                 track                          artist  \\\n",
       "0                          Wild Things                    Alessia Cara   \n",
       "1                            Surfboard                       Esquivel!   \n",
       "2                         Love Someone                    Lukas Graham   \n",
       "3  Music To My Ears (feat. Tory Lanez)                   Keys N Krates   \n",
       "4        Juju On That Beat (TZ Anthem)  Zay Hilfigerrr & Zayion McCall   \n",
       "\n",
       "                                    uri  danceability  energy  key  loudness  \\\n",
       "0  spotify:track:2ZyuwVvV6Z3XJaXIFbspeE         0.741   0.626    1    -4.826   \n",
       "1  spotify:track:61APOtq25SCMuK0V5w2Kgp         0.447   0.247    5   -14.661   \n",
       "2  spotify:track:2JqnpexlO9dmvjUMCaLCLJ         0.550   0.415    9    -6.557   \n",
       "3  spotify:track:0cjfLhk8WJ3etPTCseKXtk         0.502   0.648    0    -5.698   \n",
       "4  spotify:track:1lItf5ZXJc1by9SbPeljFd         0.807   0.887    1    -3.892   \n",
       "\n",
       "   mode  speechiness  acousticness  instrumentalness  liveness  valence  \\\n",
       "0     0       0.0886       0.02000             0.000    0.0828    0.706   \n",
       "1     0       0.0346       0.87100             0.814    0.0946    0.250   \n",
       "2     0       0.0520       0.16100             0.000    0.1080    0.274   \n",
       "3     0       0.0527       0.00513             0.000    0.2040    0.291   \n",
       "4     1       0.2750       0.00381             0.000    0.3910    0.780   \n",
       "\n",
       "     tempo  duration_ms  time_signature  chorus_hit  sections  target  \n",
       "0  108.029       188493               4    41.18681        10       1  \n",
       "1  155.489       176880               3    33.18083         9       0  \n",
       "2  172.065       205463               4    44.89147         9       1  \n",
       "3   91.837       193043               4    29.52521         7       0  \n",
       "4  160.517       144244               4    24.99199         8       1  "
      ]
     },
     "execution_count": 27,
     "metadata": {},
     "output_type": "execute_result"
    }
   ],
   "source": [
    "df.head()\n",
    "\n"
   ]
  },
  {
   "cell_type": "code",
   "execution_count": 26,
   "metadata": {},
   "outputs": [
    {
     "data": {
      "text/html": [
       "<div>\n",
       "<style scoped>\n",
       "    .dataframe tbody tr th:only-of-type {\n",
       "        vertical-align: middle;\n",
       "    }\n",
       "\n",
       "    .dataframe tbody tr th {\n",
       "        vertical-align: top;\n",
       "    }\n",
       "\n",
       "    .dataframe thead th {\n",
       "        text-align: right;\n",
       "    }\n",
       "</style>\n",
       "<table border=\"1\" class=\"dataframe\">\n",
       "  <thead>\n",
       "    <tr style=\"text-align: right;\">\n",
       "      <th></th>\n",
       "      <th>track</th>\n",
       "      <th>artist</th>\n",
       "      <th>uri</th>\n",
       "      <th>danceability</th>\n",
       "      <th>energy</th>\n",
       "      <th>key</th>\n",
       "      <th>loudness</th>\n",
       "      <th>mode</th>\n",
       "      <th>speechiness</th>\n",
       "      <th>acousticness</th>\n",
       "      <th>instrumentalness</th>\n",
       "      <th>liveness</th>\n",
       "      <th>valence</th>\n",
       "      <th>tempo</th>\n",
       "      <th>duration_ms</th>\n",
       "      <th>time_signature</th>\n",
       "      <th>chorus_hit</th>\n",
       "      <th>sections</th>\n",
       "      <th>target</th>\n",
       "    </tr>\n",
       "  </thead>\n",
       "  <tbody>\n",
       "    <tr>\n",
       "      <th>6393</th>\n",
       "      <td>Lotus Flowers</td>\n",
       "      <td>Yolta</td>\n",
       "      <td>spotify:track:4t1TljQWJ6ZuoSY67zVvBI</td>\n",
       "      <td>0.172</td>\n",
       "      <td>0.358</td>\n",
       "      <td>9</td>\n",
       "      <td>-14.430</td>\n",
       "      <td>1</td>\n",
       "      <td>0.0342</td>\n",
       "      <td>0.8860</td>\n",
       "      <td>0.966000</td>\n",
       "      <td>0.314</td>\n",
       "      <td>0.0361</td>\n",
       "      <td>72.272</td>\n",
       "      <td>150857</td>\n",
       "      <td>4</td>\n",
       "      <td>24.30824</td>\n",
       "      <td>7</td>\n",
       "      <td>0</td>\n",
       "    </tr>\n",
       "    <tr>\n",
       "      <th>6394</th>\n",
       "      <td>Calling My Spirit</td>\n",
       "      <td>Kodak Black</td>\n",
       "      <td>spotify:track:2MShy1GSSgbmGUxADNIao5</td>\n",
       "      <td>0.910</td>\n",
       "      <td>0.366</td>\n",
       "      <td>1</td>\n",
       "      <td>-9.954</td>\n",
       "      <td>1</td>\n",
       "      <td>0.0941</td>\n",
       "      <td>0.0996</td>\n",
       "      <td>0.000000</td>\n",
       "      <td>0.261</td>\n",
       "      <td>0.7400</td>\n",
       "      <td>119.985</td>\n",
       "      <td>152000</td>\n",
       "      <td>4</td>\n",
       "      <td>32.53856</td>\n",
       "      <td>8</td>\n",
       "      <td>1</td>\n",
       "    </tr>\n",
       "    <tr>\n",
       "      <th>6395</th>\n",
       "      <td>Teenage Dream</td>\n",
       "      <td>Katy Perry</td>\n",
       "      <td>spotify:track:55qBw1900pZKfXJ6Q9A2Lc</td>\n",
       "      <td>0.719</td>\n",
       "      <td>0.804</td>\n",
       "      <td>10</td>\n",
       "      <td>-4.581</td>\n",
       "      <td>1</td>\n",
       "      <td>0.0355</td>\n",
       "      <td>0.0132</td>\n",
       "      <td>0.000003</td>\n",
       "      <td>0.139</td>\n",
       "      <td>0.6050</td>\n",
       "      <td>119.999</td>\n",
       "      <td>227760</td>\n",
       "      <td>4</td>\n",
       "      <td>20.73371</td>\n",
       "      <td>7</td>\n",
       "      <td>1</td>\n",
       "    </tr>\n",
       "    <tr>\n",
       "      <th>6396</th>\n",
       "      <td>Stormy Weather</td>\n",
       "      <td>Oscar Peterson</td>\n",
       "      <td>spotify:track:4o9npmYHrOF1rUxxTVH8h4</td>\n",
       "      <td>0.600</td>\n",
       "      <td>0.177</td>\n",
       "      <td>7</td>\n",
       "      <td>-16.070</td>\n",
       "      <td>1</td>\n",
       "      <td>0.0561</td>\n",
       "      <td>0.9890</td>\n",
       "      <td>0.868000</td>\n",
       "      <td>0.149</td>\n",
       "      <td>0.5600</td>\n",
       "      <td>120.030</td>\n",
       "      <td>213387</td>\n",
       "      <td>4</td>\n",
       "      <td>21.65301</td>\n",
       "      <td>14</td>\n",
       "      <td>0</td>\n",
       "    </tr>\n",
       "    <tr>\n",
       "      <th>6397</th>\n",
       "      <td>Dust</td>\n",
       "      <td>Hans Zimmer</td>\n",
       "      <td>spotify:track:2khIaVUkbMmDHB596lyMG3</td>\n",
       "      <td>0.121</td>\n",
       "      <td>0.123</td>\n",
       "      <td>4</td>\n",
       "      <td>-23.025</td>\n",
       "      <td>0</td>\n",
       "      <td>0.0443</td>\n",
       "      <td>0.9640</td>\n",
       "      <td>0.696000</td>\n",
       "      <td>0.103</td>\n",
       "      <td>0.0297</td>\n",
       "      <td>95.182</td>\n",
       "      <td>341396</td>\n",
       "      <td>4</td>\n",
       "      <td>71.05343</td>\n",
       "      <td>15</td>\n",
       "      <td>0</td>\n",
       "    </tr>\n",
       "  </tbody>\n",
       "</table>\n",
       "</div>"
      ],
      "text/plain": [
       "                  track          artist                                   uri  \\\n",
       "6393      Lotus Flowers           Yolta  spotify:track:4t1TljQWJ6ZuoSY67zVvBI   \n",
       "6394  Calling My Spirit     Kodak Black  spotify:track:2MShy1GSSgbmGUxADNIao5   \n",
       "6395      Teenage Dream      Katy Perry  spotify:track:55qBw1900pZKfXJ6Q9A2Lc   \n",
       "6396     Stormy Weather  Oscar Peterson  spotify:track:4o9npmYHrOF1rUxxTVH8h4   \n",
       "6397               Dust     Hans Zimmer  spotify:track:2khIaVUkbMmDHB596lyMG3   \n",
       "\n",
       "      danceability  energy  key  loudness  mode  speechiness  acousticness  \\\n",
       "6393         0.172   0.358    9   -14.430     1       0.0342        0.8860   \n",
       "6394         0.910   0.366    1    -9.954     1       0.0941        0.0996   \n",
       "6395         0.719   0.804   10    -4.581     1       0.0355        0.0132   \n",
       "6396         0.600   0.177    7   -16.070     1       0.0561        0.9890   \n",
       "6397         0.121   0.123    4   -23.025     0       0.0443        0.9640   \n",
       "\n",
       "      instrumentalness  liveness  valence    tempo  duration_ms  \\\n",
       "6393          0.966000     0.314   0.0361   72.272       150857   \n",
       "6394          0.000000     0.261   0.7400  119.985       152000   \n",
       "6395          0.000003     0.139   0.6050  119.999       227760   \n",
       "6396          0.868000     0.149   0.5600  120.030       213387   \n",
       "6397          0.696000     0.103   0.0297   95.182       341396   \n",
       "\n",
       "      time_signature  chorus_hit  sections  target  \n",
       "6393               4    24.30824         7       0  \n",
       "6394               4    32.53856         8       1  \n",
       "6395               4    20.73371         7       1  \n",
       "6396               4    21.65301        14       0  \n",
       "6397               4    71.05343        15       0  "
      ]
     },
     "execution_count": 26,
     "metadata": {},
     "output_type": "execute_result"
    }
   ],
   "source": [
    "df.tail()"
   ]
  },
  {
   "cell_type": "code",
   "execution_count": 31,
   "metadata": {},
   "outputs": [
    {
     "data": {
      "text/plain": [
       "1    3199\n",
       "0    3199\n",
       "Name: target, dtype: int64"
      ]
     },
     "execution_count": 31,
     "metadata": {},
     "output_type": "execute_result"
    }
   ],
   "source": [
    "df.target.value_counts() "
   ]
  },
  {
   "cell_type": "code",
   "execution_count": 33,
   "metadata": {},
   "outputs": [
    {
     "data": {
      "text/plain": [
       "1     751\n",
       "0     715\n",
       "7     682\n",
       "2     584\n",
       "11    572\n",
       "9     560\n",
       "6     513\n",
       "5     507\n",
       "4     452\n",
       "8     445\n",
       "10    421\n",
       "3     196\n",
       "Name: key, dtype: int64"
      ]
     },
     "execution_count": 33,
     "metadata": {},
     "output_type": "execute_result"
    }
   ],
   "source": [
    "df.key.value_counts()"
   ]
  },
  {
   "cell_type": "code",
   "execution_count": 35,
   "metadata": {},
   "outputs": [
    {
     "data": {
      "text/plain": [
       "4    5799\n",
       "3     436\n",
       "5     121\n",
       "1      41\n",
       "0       1\n",
       "Name: time_signature, dtype: int64"
      ]
     },
     "execution_count": 35,
     "metadata": {},
     "output_type": "execute_result"
    }
   ],
   "source": [
    "df.time_signature.value_counts()"
   ]
  },
  {
   "cell_type": "code",
   "execution_count": 36,
   "metadata": {},
   "outputs": [
    {
     "name": "stdout",
     "output_type": "stream",
     "text": [
      "<class 'pandas.core.frame.DataFrame'>\n",
      "RangeIndex: 6398 entries, 0 to 6397\n",
      "Data columns (total 19 columns):\n",
      " #   Column            Non-Null Count  Dtype  \n",
      "---  ------            --------------  -----  \n",
      " 0   track             6398 non-null   object \n",
      " 1   artist            6398 non-null   object \n",
      " 2   uri               6398 non-null   object \n",
      " 3   danceability      6398 non-null   float64\n",
      " 4   energy            6398 non-null   float64\n",
      " 5   key               6398 non-null   int64  \n",
      " 6   loudness          6398 non-null   float64\n",
      " 7   mode              6398 non-null   int64  \n",
      " 8   speechiness       6398 non-null   float64\n",
      " 9   acousticness      6398 non-null   float64\n",
      " 10  instrumentalness  6398 non-null   float64\n",
      " 11  liveness          6398 non-null   float64\n",
      " 12  valence           6398 non-null   float64\n",
      " 13  tempo             6398 non-null   float64\n",
      " 14  duration_ms       6398 non-null   int64  \n",
      " 15  time_signature    6398 non-null   int64  \n",
      " 16  chorus_hit        6398 non-null   float64\n",
      " 17  sections          6398 non-null   int64  \n",
      " 18  target            6398 non-null   int64  \n",
      "dtypes: float64(10), int64(6), object(3)\n",
      "memory usage: 949.8+ KB\n"
     ]
    }
   ],
   "source": [
    "df.info()"
   ]
  },
  {
   "cell_type": "code",
   "execution_count": 38,
   "metadata": {},
   "outputs": [
    {
     "data": {
      "text/plain": [
       "track               0\n",
       "artist              0\n",
       "uri                 0\n",
       "danceability        0\n",
       "energy              0\n",
       "key                 0\n",
       "loudness            0\n",
       "mode                0\n",
       "speechiness         0\n",
       "acousticness        0\n",
       "instrumentalness    0\n",
       "liveness            0\n",
       "valence             0\n",
       "tempo               0\n",
       "duration_ms         0\n",
       "time_signature      0\n",
       "chorus_hit          0\n",
       "sections            0\n",
       "target              0\n",
       "dtype: int64"
      ]
     },
     "execution_count": 38,
     "metadata": {},
     "output_type": "execute_result"
    }
   ],
   "source": [
    "df.isna().sum()\n",
    "#no missing values"
   ]
  },
  {
   "cell_type": "code",
   "execution_count": 113,
   "metadata": {},
   "outputs": [],
   "source": [
    "# Make a copy of the original DataFrame to perform edits on\n",
    "df_tmp = df.copy()"
   ]
  },
  {
   "cell_type": "code",
   "execution_count": 281,
   "metadata": {},
   "outputs": [
    {
     "name": "stdout",
     "output_type": "stream",
     "text": [
      "track\n",
      "artist\n",
      "uri\n"
     ]
    }
   ],
   "source": [
    "# Find the columns which contain strings\n",
    "for label, content in df_tmp.items():\n",
    "    if pd.api.types.is_string_dtype(content):\n",
    "        print(label)\n",
    "\n"
   ]
  },
  {
   "cell_type": "code",
   "execution_count": 282,
   "metadata": {},
   "outputs": [],
   "source": [
    "# Turn all of the string value into category values\n",
    "for label, content in df_tmp.items():\n",
    "    if pd.api.types.is_string_dtype(content):\n",
    "        df_tmp[label] = content.astype(\"category\").cat.as_ordered()"
   ]
  },
  {
   "cell_type": "code",
   "execution_count": 283,
   "metadata": {},
   "outputs": [
    {
     "name": "stdout",
     "output_type": "stream",
     "text": [
      "<class 'pandas.core.frame.DataFrame'>\n",
      "RangeIndex: 6398 entries, 0 to 6397\n",
      "Columns: 19 entries, track to target\n",
      "dtypes: category(3), float64(10), int64(6)\n",
      "memory usage: 1.6 MB\n"
     ]
    }
   ],
   "source": [
    "df_tmp.info()\n"
   ]
  },
  {
   "cell_type": "code",
   "execution_count": 284,
   "metadata": {},
   "outputs": [
    {
     "name": "stdout",
     "output_type": "stream",
     "text": [
      "<class 'pandas.core.frame.DataFrame'>\n",
      "RangeIndex: 6398 entries, 0 to 6397\n",
      "Data columns (total 19 columns):\n",
      " #   Column            Dtype   \n",
      "---  ------            -----   \n",
      " 0   track             category\n",
      " 1   artist            category\n",
      " 2   uri               category\n",
      " 3   danceability      float64 \n",
      " 4   energy            float64 \n",
      " 5   key               int64   \n",
      " 6   loudness          float64 \n",
      " 7   mode              int64   \n",
      " 8   speechiness       float64 \n",
      " 9   acousticness      float64 \n",
      " 10  instrumentalness  float64 \n",
      " 11  liveness          float64 \n",
      " 12  valence           float64 \n",
      " 13  tempo             float64 \n",
      " 14  duration_ms       int64   \n",
      " 15  time_signature    int64   \n",
      " 16  chorus_hit        float64 \n",
      " 17  sections          int64   \n",
      " 18  target            int64   \n",
      "dtypes: category(3), float64(10), int64(6)\n",
      "memory usage: 1.6 MB\n"
     ]
    }
   ],
   "source": [
    "df_tmp.info(\"uri\")"
   ]
  },
  {
   "cell_type": "code",
   "execution_count": 117,
   "metadata": {},
   "outputs": [
    {
     "data": {
      "text/html": [
       "<div>\n",
       "<style scoped>\n",
       "    .dataframe tbody tr th:only-of-type {\n",
       "        vertical-align: middle;\n",
       "    }\n",
       "\n",
       "    .dataframe tbody tr th {\n",
       "        vertical-align: top;\n",
       "    }\n",
       "\n",
       "    .dataframe thead th {\n",
       "        text-align: right;\n",
       "    }\n",
       "</style>\n",
       "<table border=\"1\" class=\"dataframe\">\n",
       "  <thead>\n",
       "    <tr style=\"text-align: right;\">\n",
       "      <th></th>\n",
       "      <th>danceability</th>\n",
       "      <th>energy</th>\n",
       "      <th>key</th>\n",
       "      <th>loudness</th>\n",
       "      <th>mode</th>\n",
       "      <th>speechiness</th>\n",
       "      <th>acousticness</th>\n",
       "      <th>instrumentalness</th>\n",
       "      <th>liveness</th>\n",
       "      <th>valence</th>\n",
       "      <th>tempo</th>\n",
       "      <th>duration_ms</th>\n",
       "      <th>time_signature</th>\n",
       "      <th>chorus_hit</th>\n",
       "      <th>sections</th>\n",
       "      <th>target</th>\n",
       "    </tr>\n",
       "  </thead>\n",
       "  <tbody>\n",
       "    <tr>\n",
       "      <th>count</th>\n",
       "      <td>6398.000000</td>\n",
       "      <td>6398.000000</td>\n",
       "      <td>6398.000000</td>\n",
       "      <td>6398.000000</td>\n",
       "      <td>6398.000000</td>\n",
       "      <td>6398.000000</td>\n",
       "      <td>6398.000000</td>\n",
       "      <td>6398.000000</td>\n",
       "      <td>6398.000000</td>\n",
       "      <td>6398.000000</td>\n",
       "      <td>6398.000000</td>\n",
       "      <td>6.398000e+03</td>\n",
       "      <td>6398.000000</td>\n",
       "      <td>6398.000000</td>\n",
       "      <td>6398.000000</td>\n",
       "      <td>6398.000000</td>\n",
       "    </tr>\n",
       "    <tr>\n",
       "      <th>mean</th>\n",
       "      <td>0.568163</td>\n",
       "      <td>0.667756</td>\n",
       "      <td>5.283526</td>\n",
       "      <td>-7.589796</td>\n",
       "      <td>0.645514</td>\n",
       "      <td>0.098018</td>\n",
       "      <td>0.216928</td>\n",
       "      <td>0.165293</td>\n",
       "      <td>0.196700</td>\n",
       "      <td>0.443734</td>\n",
       "      <td>122.353871</td>\n",
       "      <td>2.367042e+05</td>\n",
       "      <td>3.930916</td>\n",
       "      <td>41.028399</td>\n",
       "      <td>10.316505</td>\n",
       "      <td>0.500000</td>\n",
       "    </tr>\n",
       "    <tr>\n",
       "      <th>std</th>\n",
       "      <td>0.191103</td>\n",
       "      <td>0.240721</td>\n",
       "      <td>3.606216</td>\n",
       "      <td>5.234592</td>\n",
       "      <td>0.478395</td>\n",
       "      <td>0.097224</td>\n",
       "      <td>0.296835</td>\n",
       "      <td>0.318736</td>\n",
       "      <td>0.166148</td>\n",
       "      <td>0.245776</td>\n",
       "      <td>29.847389</td>\n",
       "      <td>8.563698e+04</td>\n",
       "      <td>0.377469</td>\n",
       "      <td>19.568827</td>\n",
       "      <td>3.776011</td>\n",
       "      <td>0.500039</td>\n",
       "    </tr>\n",
       "    <tr>\n",
       "      <th>min</th>\n",
       "      <td>0.062200</td>\n",
       "      <td>0.000251</td>\n",
       "      <td>0.000000</td>\n",
       "      <td>-46.655000</td>\n",
       "      <td>0.000000</td>\n",
       "      <td>0.022500</td>\n",
       "      <td>0.000000</td>\n",
       "      <td>0.000000</td>\n",
       "      <td>0.016700</td>\n",
       "      <td>0.000000</td>\n",
       "      <td>39.369000</td>\n",
       "      <td>2.985300e+04</td>\n",
       "      <td>0.000000</td>\n",
       "      <td>0.000000</td>\n",
       "      <td>2.000000</td>\n",
       "      <td>0.000000</td>\n",
       "    </tr>\n",
       "    <tr>\n",
       "      <th>25%</th>\n",
       "      <td>0.447000</td>\n",
       "      <td>0.533000</td>\n",
       "      <td>2.000000</td>\n",
       "      <td>-8.425000</td>\n",
       "      <td>0.000000</td>\n",
       "      <td>0.038825</td>\n",
       "      <td>0.008533</td>\n",
       "      <td>0.000000</td>\n",
       "      <td>0.096800</td>\n",
       "      <td>0.240000</td>\n",
       "      <td>98.091250</td>\n",
       "      <td>1.932068e+05</td>\n",
       "      <td>4.000000</td>\n",
       "      <td>28.059135</td>\n",
       "      <td>8.000000</td>\n",
       "      <td>0.000000</td>\n",
       "    </tr>\n",
       "    <tr>\n",
       "      <th>50%</th>\n",
       "      <td>0.588000</td>\n",
       "      <td>0.712500</td>\n",
       "      <td>5.000000</td>\n",
       "      <td>-6.096500</td>\n",
       "      <td>1.000000</td>\n",
       "      <td>0.057200</td>\n",
       "      <td>0.067050</td>\n",
       "      <td>0.000017</td>\n",
       "      <td>0.126000</td>\n",
       "      <td>0.434000</td>\n",
       "      <td>121.070000</td>\n",
       "      <td>2.212465e+05</td>\n",
       "      <td>4.000000</td>\n",
       "      <td>36.265365</td>\n",
       "      <td>10.000000</td>\n",
       "      <td>0.500000</td>\n",
       "    </tr>\n",
       "    <tr>\n",
       "      <th>75%</th>\n",
       "      <td>0.710000</td>\n",
       "      <td>0.857000</td>\n",
       "      <td>8.000000</td>\n",
       "      <td>-4.601250</td>\n",
       "      <td>1.000000</td>\n",
       "      <td>0.112000</td>\n",
       "      <td>0.311000</td>\n",
       "      <td>0.057650</td>\n",
       "      <td>0.249000</td>\n",
       "      <td>0.628000</td>\n",
       "      <td>141.085000</td>\n",
       "      <td>2.593165e+05</td>\n",
       "      <td>4.000000</td>\n",
       "      <td>48.292538</td>\n",
       "      <td>12.000000</td>\n",
       "      <td>1.000000</td>\n",
       "    </tr>\n",
       "    <tr>\n",
       "      <th>max</th>\n",
       "      <td>0.981000</td>\n",
       "      <td>0.999000</td>\n",
       "      <td>11.000000</td>\n",
       "      <td>-0.149000</td>\n",
       "      <td>1.000000</td>\n",
       "      <td>0.956000</td>\n",
       "      <td>0.996000</td>\n",
       "      <td>0.995000</td>\n",
       "      <td>0.982000</td>\n",
       "      <td>0.976000</td>\n",
       "      <td>210.977000</td>\n",
       "      <td>1.734201e+06</td>\n",
       "      <td>5.000000</td>\n",
       "      <td>213.154990</td>\n",
       "      <td>88.000000</td>\n",
       "      <td>1.000000</td>\n",
       "    </tr>\n",
       "  </tbody>\n",
       "</table>\n",
       "</div>"
      ],
      "text/plain": [
       "       danceability       energy          key     loudness         mode  speechiness  acousticness  instrumentalness     liveness      valence        tempo   duration_ms  time_signature   chorus_hit     sections       target\n",
       "count  6398.000000   6398.000000  6398.000000  6398.000000  6398.000000  6398.000000  6398.000000   6398.000000       6398.000000  6398.000000  6398.000000  6.398000e+03  6398.000000     6398.000000  6398.000000  6398.000000\n",
       "mean   0.568163      0.667756     5.283526    -7.589796     0.645514     0.098018     0.216928      0.165293          0.196700     0.443734     122.353871   2.367042e+05  3.930916        41.028399    10.316505    0.500000   \n",
       "std    0.191103      0.240721     3.606216     5.234592     0.478395     0.097224     0.296835      0.318736          0.166148     0.245776     29.847389    8.563698e+04  0.377469        19.568827    3.776011     0.500039   \n",
       "min    0.062200      0.000251     0.000000    -46.655000    0.000000     0.022500     0.000000      0.000000          0.016700     0.000000     39.369000    2.985300e+04  0.000000        0.000000     2.000000     0.000000   \n",
       "25%    0.447000      0.533000     2.000000    -8.425000     0.000000     0.038825     0.008533      0.000000          0.096800     0.240000     98.091250    1.932068e+05  4.000000        28.059135    8.000000     0.000000   \n",
       "50%    0.588000      0.712500     5.000000    -6.096500     1.000000     0.057200     0.067050      0.000017          0.126000     0.434000     121.070000   2.212465e+05  4.000000        36.265365    10.000000    0.500000   \n",
       "75%    0.710000      0.857000     8.000000    -4.601250     1.000000     0.112000     0.311000      0.057650          0.249000     0.628000     141.085000   2.593165e+05  4.000000        48.292538    12.000000    1.000000   \n",
       "max    0.981000      0.999000     11.000000   -0.149000     1.000000     0.956000     0.996000      0.995000          0.982000     0.976000     210.977000   1.734201e+06  5.000000        213.154990   88.000000    1.000000   "
      ]
     },
     "execution_count": 117,
     "metadata": {},
     "output_type": "execute_result"
    }
   ],
   "source": [
    "df_tmp.describe()"
   ]
  },
  {
   "cell_type": "code",
   "execution_count": 82,
   "metadata": {},
   "outputs": [
    {
     "name": "stdout",
     "output_type": "stream",
     "text": [
      "         track            artist                                   uri  danceability  energy  key  loudness  mode  speechiness  acousticness  instrumentalness  liveness  valence    tempo  duration_ms  time_signature  chorus_hit  sections  target\n",
      "200  Sacrifice  Invincible Force  spotify:track:2CUGyAEW4rtVyZYSyVKKp3  0.267         0.999   1   -3.412     0     0.131        0.00285       0.00257           0.104     0.0381   181.013  227879       4               28.3693     11        0     \n"
     ]
    }
   ],
   "source": [
    "#pd.set_option('display.expand_frame_repr', True)\n",
    "pd.set_option('expand_frame_repr', False)\n",
    "\n",
    "print(df[df.energy==df.energy.max()])\n",
    "\n",
    "#pd.set_option('display.max_columns', None)  \n",
    "#pd.set_option('display.expand_frame_repr', False)\n",
    "#pd.set_option('max_colwidth', -1)"
   ]
  },
  {
   "cell_type": "code",
   "execution_count": 63,
   "metadata": {},
   "outputs": [
    {
     "name": "stdout",
     "output_type": "stream",
     "text": [
      "         track            artist                                   uri  \\\n",
      "200  Sacrifice  Invincible Force  spotify:track:2CUGyAEW4rtVyZYSyVKKp3   \n",
      "\n",
      "     danceability  energy  key  loudness  mode  speechiness  acousticness  \\\n",
      "200         0.267   0.999    1    -3.412     0        0.131       0.00285   \n",
      "\n",
      "     instrumentalness  liveness  valence    tempo  duration_ms  \\\n",
      "200           0.00257     0.104   0.0381  181.013       227879   \n",
      "\n",
      "     time_signature  chorus_hit  sections  target  \n",
      "200               4     28.3693        11       0  \n"
     ]
    }
   ],
   "source": [
    "print(df[df.energy==df.energy.max()])"
   ]
  },
  {
   "cell_type": "code",
   "execution_count": 119,
   "metadata": {},
   "outputs": [
    {
     "data": {
      "text/html": [
       "<div>\n",
       "<style scoped>\n",
       "    .dataframe tbody tr th:only-of-type {\n",
       "        vertical-align: middle;\n",
       "    }\n",
       "\n",
       "    .dataframe tbody tr th {\n",
       "        vertical-align: top;\n",
       "    }\n",
       "\n",
       "    .dataframe thead th {\n",
       "        text-align: right;\n",
       "    }\n",
       "</style>\n",
       "<table border=\"1\" class=\"dataframe\">\n",
       "  <thead>\n",
       "    <tr style=\"text-align: right;\">\n",
       "      <th>target</th>\n",
       "      <th>0</th>\n",
       "      <th>1</th>\n",
       "    </tr>\n",
       "    <tr>\n",
       "      <th>key</th>\n",
       "      <th></th>\n",
       "      <th></th>\n",
       "    </tr>\n",
       "  </thead>\n",
       "  <tbody>\n",
       "    <tr>\n",
       "      <th>0</th>\n",
       "      <td>360</td>\n",
       "      <td>355</td>\n",
       "    </tr>\n",
       "    <tr>\n",
       "      <th>1</th>\n",
       "      <td>335</td>\n",
       "      <td>416</td>\n",
       "    </tr>\n",
       "    <tr>\n",
       "      <th>2</th>\n",
       "      <td>315</td>\n",
       "      <td>269</td>\n",
       "    </tr>\n",
       "    <tr>\n",
       "      <th>3</th>\n",
       "      <td>105</td>\n",
       "      <td>91</td>\n",
       "    </tr>\n",
       "    <tr>\n",
       "      <th>4</th>\n",
       "      <td>256</td>\n",
       "      <td>196</td>\n",
       "    </tr>\n",
       "    <tr>\n",
       "      <th>5</th>\n",
       "      <td>262</td>\n",
       "      <td>245</td>\n",
       "    </tr>\n",
       "    <tr>\n",
       "      <th>6</th>\n",
       "      <td>247</td>\n",
       "      <td>266</td>\n",
       "    </tr>\n",
       "    <tr>\n",
       "      <th>7</th>\n",
       "      <td>358</td>\n",
       "      <td>324</td>\n",
       "    </tr>\n",
       "    <tr>\n",
       "      <th>8</th>\n",
       "      <td>180</td>\n",
       "      <td>265</td>\n",
       "    </tr>\n",
       "    <tr>\n",
       "      <th>9</th>\n",
       "      <td>300</td>\n",
       "      <td>260</td>\n",
       "    </tr>\n",
       "    <tr>\n",
       "      <th>10</th>\n",
       "      <td>195</td>\n",
       "      <td>226</td>\n",
       "    </tr>\n",
       "    <tr>\n",
       "      <th>11</th>\n",
       "      <td>286</td>\n",
       "      <td>286</td>\n",
       "    </tr>\n",
       "  </tbody>\n",
       "</table>\n",
       "</div>"
      ],
      "text/plain": [
       "target    0    1\n",
       "key             \n",
       "0       360  355\n",
       "1       335  416\n",
       "2       315  269\n",
       "3       105  91 \n",
       "4       256  196\n",
       "5       262  245\n",
       "6       247  266\n",
       "7       358  324\n",
       "8       180  265\n",
       "9       300  260\n",
       "10      195  226\n",
       "11      286  286"
      ]
     },
     "execution_count": 119,
     "metadata": {},
     "output_type": "execute_result"
    }
   ],
   "source": [
    "pd.crosstab(df_tmp.key,df_tmp.target)\n"
   ]
  },
  {
   "cell_type": "code",
   "execution_count": 102,
   "metadata": {},
   "outputs": [
    {
     "data": {
      "text/html": [
       "<div>\n",
       "<style scoped>\n",
       "    .dataframe tbody tr th:only-of-type {\n",
       "        vertical-align: middle;\n",
       "    }\n",
       "\n",
       "    .dataframe tbody tr th {\n",
       "        vertical-align: top;\n",
       "    }\n",
       "\n",
       "    .dataframe thead th {\n",
       "        text-align: right;\n",
       "    }\n",
       "</style>\n",
       "<table border=\"1\" class=\"dataframe\">\n",
       "  <thead>\n",
       "    <tr style=\"text-align: right;\">\n",
       "      <th></th>\n",
       "      <th>danceability</th>\n",
       "      <th>energy</th>\n",
       "      <th>loudness</th>\n",
       "      <th>mode</th>\n",
       "      <th>speechiness</th>\n",
       "      <th>acousticness</th>\n",
       "      <th>instrumentalness</th>\n",
       "      <th>liveness</th>\n",
       "      <th>valence</th>\n",
       "      <th>tempo</th>\n",
       "      <th>duration_ms</th>\n",
       "      <th>time_signature</th>\n",
       "      <th>chorus_hit</th>\n",
       "      <th>sections</th>\n",
       "      <th>target</th>\n",
       "    </tr>\n",
       "    <tr>\n",
       "      <th>key</th>\n",
       "      <th></th>\n",
       "      <th></th>\n",
       "      <th></th>\n",
       "      <th></th>\n",
       "      <th></th>\n",
       "      <th></th>\n",
       "      <th></th>\n",
       "      <th></th>\n",
       "      <th></th>\n",
       "      <th></th>\n",
       "      <th></th>\n",
       "      <th></th>\n",
       "      <th></th>\n",
       "      <th></th>\n",
       "      <th></th>\n",
       "    </tr>\n",
       "  </thead>\n",
       "  <tbody>\n",
       "    <tr>\n",
       "      <th>0</th>\n",
       "      <td>0.562199</td>\n",
       "      <td>0.627777</td>\n",
       "      <td>-8.054449</td>\n",
       "      <td>0.737063</td>\n",
       "      <td>0.085572</td>\n",
       "      <td>0.267084</td>\n",
       "      <td>0.180863</td>\n",
       "      <td>0.185984</td>\n",
       "      <td>0.457214</td>\n",
       "      <td>121.179427</td>\n",
       "      <td>233160.570629</td>\n",
       "      <td>3.934266</td>\n",
       "      <td>40.879832</td>\n",
       "      <td>10.186014</td>\n",
       "      <td>0.496503</td>\n",
       "    </tr>\n",
       "    <tr>\n",
       "      <th>1</th>\n",
       "      <td>0.611563</td>\n",
       "      <td>0.690098</td>\n",
       "      <td>-7.004847</td>\n",
       "      <td>0.728362</td>\n",
       "      <td>0.120703</td>\n",
       "      <td>0.149658</td>\n",
       "      <td>0.129140</td>\n",
       "      <td>0.199957</td>\n",
       "      <td>0.429418</td>\n",
       "      <td>123.295826</td>\n",
       "      <td>231235.306258</td>\n",
       "      <td>3.968043</td>\n",
       "      <td>41.221211</td>\n",
       "      <td>10.201065</td>\n",
       "      <td>0.553928</td>\n",
       "    </tr>\n",
       "    <tr>\n",
       "      <th>2</th>\n",
       "      <td>0.551071</td>\n",
       "      <td>0.678673</td>\n",
       "      <td>-7.581144</td>\n",
       "      <td>0.818493</td>\n",
       "      <td>0.091360</td>\n",
       "      <td>0.204705</td>\n",
       "      <td>0.173236</td>\n",
       "      <td>0.192663</td>\n",
       "      <td>0.423588</td>\n",
       "      <td>122.259810</td>\n",
       "      <td>237687.116438</td>\n",
       "      <td>3.910959</td>\n",
       "      <td>40.735181</td>\n",
       "      <td>10.328767</td>\n",
       "      <td>0.460616</td>\n",
       "    </tr>\n",
       "    <tr>\n",
       "      <th>3</th>\n",
       "      <td>0.503398</td>\n",
       "      <td>0.584439</td>\n",
       "      <td>-9.109913</td>\n",
       "      <td>0.658163</td>\n",
       "      <td>0.080706</td>\n",
       "      <td>0.340257</td>\n",
       "      <td>0.225334</td>\n",
       "      <td>0.164742</td>\n",
       "      <td>0.412445</td>\n",
       "      <td>119.412128</td>\n",
       "      <td>248321.607143</td>\n",
       "      <td>3.897959</td>\n",
       "      <td>41.574575</td>\n",
       "      <td>10.846939</td>\n",
       "      <td>0.464286</td>\n",
       "    </tr>\n",
       "    <tr>\n",
       "      <th>4</th>\n",
       "      <td>0.530768</td>\n",
       "      <td>0.680813</td>\n",
       "      <td>-7.424825</td>\n",
       "      <td>0.539823</td>\n",
       "      <td>0.082198</td>\n",
       "      <td>0.236667</td>\n",
       "      <td>0.192650</td>\n",
       "      <td>0.218751</td>\n",
       "      <td>0.428557</td>\n",
       "      <td>123.731765</td>\n",
       "      <td>241858.960177</td>\n",
       "      <td>3.924779</td>\n",
       "      <td>41.611854</td>\n",
       "      <td>10.387168</td>\n",
       "      <td>0.433628</td>\n",
       "    </tr>\n",
       "    <tr>\n",
       "      <th>5</th>\n",
       "      <td>0.552988</td>\n",
       "      <td>0.635682</td>\n",
       "      <td>-8.249464</td>\n",
       "      <td>0.526627</td>\n",
       "      <td>0.087411</td>\n",
       "      <td>0.275353</td>\n",
       "      <td>0.186661</td>\n",
       "      <td>0.187601</td>\n",
       "      <td>0.451165</td>\n",
       "      <td>123.113677</td>\n",
       "      <td>242102.161736</td>\n",
       "      <td>3.915187</td>\n",
       "      <td>40.666126</td>\n",
       "      <td>10.633136</td>\n",
       "      <td>0.483235</td>\n",
       "    </tr>\n",
       "    <tr>\n",
       "      <th>6</th>\n",
       "      <td>0.572829</td>\n",
       "      <td>0.700543</td>\n",
       "      <td>-7.061772</td>\n",
       "      <td>0.518519</td>\n",
       "      <td>0.104091</td>\n",
       "      <td>0.168394</td>\n",
       "      <td>0.154336</td>\n",
       "      <td>0.194797</td>\n",
       "      <td>0.457796</td>\n",
       "      <td>120.096039</td>\n",
       "      <td>237361.446394</td>\n",
       "      <td>3.925926</td>\n",
       "      <td>39.663468</td>\n",
       "      <td>10.286550</td>\n",
       "      <td>0.518519</td>\n",
       "    </tr>\n",
       "    <tr>\n",
       "      <th>7</th>\n",
       "      <td>0.568652</td>\n",
       "      <td>0.681213</td>\n",
       "      <td>-7.462151</td>\n",
       "      <td>0.775660</td>\n",
       "      <td>0.094107</td>\n",
       "      <td>0.220136</td>\n",
       "      <td>0.171825</td>\n",
       "      <td>0.201093</td>\n",
       "      <td>0.459936</td>\n",
       "      <td>123.047717</td>\n",
       "      <td>235205.224340</td>\n",
       "      <td>3.939883</td>\n",
       "      <td>41.221224</td>\n",
       "      <td>10.271261</td>\n",
       "      <td>0.475073</td>\n",
       "    </tr>\n",
       "    <tr>\n",
       "      <th>8</th>\n",
       "      <td>0.591938</td>\n",
       "      <td>0.670350</td>\n",
       "      <td>-7.048364</td>\n",
       "      <td>0.739326</td>\n",
       "      <td>0.108684</td>\n",
       "      <td>0.201154</td>\n",
       "      <td>0.131599</td>\n",
       "      <td>0.195882</td>\n",
       "      <td>0.447532</td>\n",
       "      <td>119.996238</td>\n",
       "      <td>227809.489888</td>\n",
       "      <td>3.941573</td>\n",
       "      <td>41.939608</td>\n",
       "      <td>10.006742</td>\n",
       "      <td>0.595506</td>\n",
       "    </tr>\n",
       "    <tr>\n",
       "      <th>9</th>\n",
       "      <td>0.539629</td>\n",
       "      <td>0.661068</td>\n",
       "      <td>-8.180379</td>\n",
       "      <td>0.616071</td>\n",
       "      <td>0.094566</td>\n",
       "      <td>0.241165</td>\n",
       "      <td>0.182877</td>\n",
       "      <td>0.189949</td>\n",
       "      <td>0.429388</td>\n",
       "      <td>123.675775</td>\n",
       "      <td>240552.066071</td>\n",
       "      <td>3.896429</td>\n",
       "      <td>41.467694</td>\n",
       "      <td>10.492857</td>\n",
       "      <td>0.464286</td>\n",
       "    </tr>\n",
       "    <tr>\n",
       "      <th>10</th>\n",
       "      <td>0.589426</td>\n",
       "      <td>0.667773</td>\n",
       "      <td>-7.558280</td>\n",
       "      <td>0.444181</td>\n",
       "      <td>0.111283</td>\n",
       "      <td>0.209141</td>\n",
       "      <td>0.148921</td>\n",
       "      <td>0.213566</td>\n",
       "      <td>0.447599</td>\n",
       "      <td>121.852328</td>\n",
       "      <td>239107.817102</td>\n",
       "      <td>3.942993</td>\n",
       "      <td>41.130774</td>\n",
       "      <td>10.334917</td>\n",
       "      <td>0.536817</td>\n",
       "    </tr>\n",
       "    <tr>\n",
       "      <th>11</th>\n",
       "      <td>0.590297</td>\n",
       "      <td>0.682984</td>\n",
       "      <td>-7.302570</td>\n",
       "      <td>0.493007</td>\n",
       "      <td>0.102962</td>\n",
       "      <td>0.179372</td>\n",
       "      <td>0.147140</td>\n",
       "      <td>0.202830</td>\n",
       "      <td>0.458695</td>\n",
       "      <td>124.033764</td>\n",
       "      <td>237053.325175</td>\n",
       "      <td>3.938811</td>\n",
       "      <td>40.713139</td>\n",
       "      <td>10.236014</td>\n",
       "      <td>0.500000</td>\n",
       "    </tr>\n",
       "  </tbody>\n",
       "</table>\n",
       "</div>"
      ],
      "text/plain": [
       "     danceability    energy  loudness      mode  speechiness  acousticness  instrumentalness  liveness   valence       tempo    duration_ms  time_signature  chorus_hit   sections    target\n",
       "key                                                                                                                                                                                         \n",
       "0    0.562199      0.627777 -8.054449  0.737063  0.085572     0.267084      0.180863          0.185984  0.457214  121.179427  233160.570629  3.934266        40.879832   10.186014  0.496503\n",
       "1    0.611563      0.690098 -7.004847  0.728362  0.120703     0.149658      0.129140          0.199957  0.429418  123.295826  231235.306258  3.968043        41.221211   10.201065  0.553928\n",
       "2    0.551071      0.678673 -7.581144  0.818493  0.091360     0.204705      0.173236          0.192663  0.423588  122.259810  237687.116438  3.910959        40.735181   10.328767  0.460616\n",
       "3    0.503398      0.584439 -9.109913  0.658163  0.080706     0.340257      0.225334          0.164742  0.412445  119.412128  248321.607143  3.897959        41.574575   10.846939  0.464286\n",
       "4    0.530768      0.680813 -7.424825  0.539823  0.082198     0.236667      0.192650          0.218751  0.428557  123.731765  241858.960177  3.924779        41.611854   10.387168  0.433628\n",
       "5    0.552988      0.635682 -8.249464  0.526627  0.087411     0.275353      0.186661          0.187601  0.451165  123.113677  242102.161736  3.915187        40.666126   10.633136  0.483235\n",
       "6    0.572829      0.700543 -7.061772  0.518519  0.104091     0.168394      0.154336          0.194797  0.457796  120.096039  237361.446394  3.925926        39.663468   10.286550  0.518519\n",
       "7    0.568652      0.681213 -7.462151  0.775660  0.094107     0.220136      0.171825          0.201093  0.459936  123.047717  235205.224340  3.939883        41.221224   10.271261  0.475073\n",
       "8    0.591938      0.670350 -7.048364  0.739326  0.108684     0.201154      0.131599          0.195882  0.447532  119.996238  227809.489888  3.941573        41.939608   10.006742  0.595506\n",
       "9    0.539629      0.661068 -8.180379  0.616071  0.094566     0.241165      0.182877          0.189949  0.429388  123.675775  240552.066071  3.896429        41.467694   10.492857  0.464286\n",
       "10   0.589426      0.667773 -7.558280  0.444181  0.111283     0.209141      0.148921          0.213566  0.447599  121.852328  239107.817102  3.942993        41.130774   10.334917  0.536817\n",
       "11   0.590297      0.682984 -7.302570  0.493007  0.102962     0.179372      0.147140          0.202830  0.458695  124.033764  237053.325175  3.938811        40.713139   10.236014  0.500000"
      ]
     },
     "execution_count": 102,
     "metadata": {},
     "output_type": "execute_result"
    }
   ],
   "source": [
    "df.groupby('key').mean()"
   ]
  },
  {
   "cell_type": "code",
   "execution_count": 121,
   "metadata": {},
   "outputs": [
    {
     "data": {
      "text/plain": [
       "<matplotlib.axes._subplots.AxesSubplot at 0x1208e0fd0>"
      ]
     },
     "execution_count": 121,
     "metadata": {},
     "output_type": "execute_result"
    },
    {
     "data": {
      "image/png": "[encoded data removed]",
      "text/plain": [
       "<Figure size 432x288 with 1 Axes>"
      ]
     },
     "metadata": {
      "needs_background": "light"
     },
     "output_type": "display_data"
    }
   ],
   "source": [
    "df_tmp.energy.plot()"
   ]
  },
  {
   "cell_type": "code",
   "execution_count": 122,
   "metadata": {},
   "outputs": [
    {
     "data": {
      "text/plain": [
       "<matplotlib.axes._subplots.AxesSubplot at 0x1208bda60>"
      ]
     },
     "execution_count": 122,
     "metadata": {},
     "output_type": "execute_result"
    },
    {
     "data": {
      "image/png": "[encoded data removed]",
      "text/plain": [
       "<Figure size 432x288 with 1 Axes>"
      ]
     },
     "metadata": {
      "needs_background": "light"
     },
     "output_type": "display_data"
    }
   ],
   "source": [
    "df_tmp.loudness.hist()"
   ]
  },
  {
   "cell_type": "code",
   "execution_count": 123,
   "metadata": {},
   "outputs": [
    {
     "data": {
      "text/plain": [
       "<matplotlib.axes._subplots.AxesSubplot at 0x1207223a0>"
      ]
     },
     "execution_count": 123,
     "metadata": {},
     "output_type": "execute_result"
    },
    {
     "data": {
      "image/png": "[encoded data removed]",
      "text/plain": [
       "<Figure size 432x288 with 1 Axes>"
      ]
     },
     "metadata": {
      "needs_background": "light"
     },
     "output_type": "display_data"
    }
   ],
   "source": [
    "df_tmp.energy.hist()"
   ]
  },
  {
   "cell_type": "code",
   "execution_count": 124,
   "metadata": {},
   "outputs": [
    {
     "data": {
      "text/html": [
       "<div>\n",
       "<style scoped>\n",
       "    .dataframe tbody tr th:only-of-type {\n",
       "        vertical-align: middle;\n",
       "    }\n",
       "\n",
       "    .dataframe tbody tr th {\n",
       "        vertical-align: top;\n",
       "    }\n",
       "\n",
       "    .dataframe thead th {\n",
       "        text-align: right;\n",
       "    }\n",
       "</style>\n",
       "<table border=\"1\" class=\"dataframe\">\n",
       "  <thead>\n",
       "    <tr style=\"text-align: right;\">\n",
       "      <th></th>\n",
       "      <th>track</th>\n",
       "      <th>artist</th>\n",
       "      <th>uri</th>\n",
       "      <th>danceability</th>\n",
       "      <th>energy</th>\n",
       "      <th>key</th>\n",
       "      <th>loudness</th>\n",
       "      <th>mode</th>\n",
       "      <th>speechiness</th>\n",
       "      <th>acousticness</th>\n",
       "      <th>instrumentalness</th>\n",
       "      <th>liveness</th>\n",
       "      <th>valence</th>\n",
       "      <th>tempo</th>\n",
       "      <th>duration_ms</th>\n",
       "      <th>time_signature</th>\n",
       "      <th>chorus_hit</th>\n",
       "      <th>sections</th>\n",
       "      <th>target</th>\n",
       "    </tr>\n",
       "  </thead>\n",
       "  <tbody>\n",
       "    <tr>\n",
       "      <th>0</th>\n",
       "      <td>Wild Things</td>\n",
       "      <td>Alessia Cara</td>\n",
       "      <td>spotify:track:2ZyuwVvV6Z3XJaXIFbspeE</td>\n",
       "      <td>0.741</td>\n",
       "      <td>0.626</td>\n",
       "      <td>1</td>\n",
       "      <td>-4.826</td>\n",
       "      <td>0</td>\n",
       "      <td>0.0886</td>\n",
       "      <td>0.02000</td>\n",
       "      <td>0.000</td>\n",
       "      <td>0.0828</td>\n",
       "      <td>0.706</td>\n",
       "      <td>108.029</td>\n",
       "      <td>188493</td>\n",
       "      <td>4</td>\n",
       "      <td>41.18681</td>\n",
       "      <td>10</td>\n",
       "      <td>1</td>\n",
       "    </tr>\n",
       "    <tr>\n",
       "      <th>1</th>\n",
       "      <td>Surfboard</td>\n",
       "      <td>Esquivel!</td>\n",
       "      <td>spotify:track:61APOtq25SCMuK0V5w2Kgp</td>\n",
       "      <td>0.447</td>\n",
       "      <td>0.247</td>\n",
       "      <td>5</td>\n",
       "      <td>-14.661</td>\n",
       "      <td>0</td>\n",
       "      <td>0.0346</td>\n",
       "      <td>0.87100</td>\n",
       "      <td>0.814</td>\n",
       "      <td>0.0946</td>\n",
       "      <td>0.250</td>\n",
       "      <td>155.489</td>\n",
       "      <td>176880</td>\n",
       "      <td>3</td>\n",
       "      <td>33.18083</td>\n",
       "      <td>9</td>\n",
       "      <td>0</td>\n",
       "    </tr>\n",
       "    <tr>\n",
       "      <th>2</th>\n",
       "      <td>Love Someone</td>\n",
       "      <td>Lukas Graham</td>\n",
       "      <td>spotify:track:2JqnpexlO9dmvjUMCaLCLJ</td>\n",
       "      <td>0.550</td>\n",
       "      <td>0.415</td>\n",
       "      <td>9</td>\n",
       "      <td>-6.557</td>\n",
       "      <td>0</td>\n",
       "      <td>0.0520</td>\n",
       "      <td>0.16100</td>\n",
       "      <td>0.000</td>\n",
       "      <td>0.1080</td>\n",
       "      <td>0.274</td>\n",
       "      <td>172.065</td>\n",
       "      <td>205463</td>\n",
       "      <td>4</td>\n",
       "      <td>44.89147</td>\n",
       "      <td>9</td>\n",
       "      <td>1</td>\n",
       "    </tr>\n",
       "    <tr>\n",
       "      <th>3</th>\n",
       "      <td>Music To My Ears (feat. Tory Lanez)</td>\n",
       "      <td>Keys N Krates</td>\n",
       "      <td>spotify:track:0cjfLhk8WJ3etPTCseKXtk</td>\n",
       "      <td>0.502</td>\n",
       "      <td>0.648</td>\n",
       "      <td>0</td>\n",
       "      <td>-5.698</td>\n",
       "      <td>0</td>\n",
       "      <td>0.0527</td>\n",
       "      <td>0.00513</td>\n",
       "      <td>0.000</td>\n",
       "      <td>0.2040</td>\n",
       "      <td>0.291</td>\n",
       "      <td>91.837</td>\n",
       "      <td>193043</td>\n",
       "      <td>4</td>\n",
       "      <td>29.52521</td>\n",
       "      <td>7</td>\n",
       "      <td>0</td>\n",
       "    </tr>\n",
       "    <tr>\n",
       "      <th>4</th>\n",
       "      <td>Juju On That Beat (TZ Anthem)</td>\n",
       "      <td>Zay Hilfigerrr &amp; Zayion McCall</td>\n",
       "      <td>spotify:track:1lItf5ZXJc1by9SbPeljFd</td>\n",
       "      <td>0.807</td>\n",
       "      <td>0.887</td>\n",
       "      <td>1</td>\n",
       "      <td>-3.892</td>\n",
       "      <td>1</td>\n",
       "      <td>0.2750</td>\n",
       "      <td>0.00381</td>\n",
       "      <td>0.000</td>\n",
       "      <td>0.3910</td>\n",
       "      <td>0.780</td>\n",
       "      <td>160.517</td>\n",
       "      <td>144244</td>\n",
       "      <td>4</td>\n",
       "      <td>24.99199</td>\n",
       "      <td>8</td>\n",
       "      <td>1</td>\n",
       "    </tr>\n",
       "  </tbody>\n",
       "</table>\n",
       "</div>"
      ],
      "text/plain": [
       "                                 track                          artist                                   uri  danceability  energy  key  loudness  mode  speechiness  acousticness  instrumentalness  liveness  valence    tempo  duration_ms  time_signature  chorus_hit  sections  target\n",
       "0  Wild Things                          Alessia Cara                    spotify:track:2ZyuwVvV6Z3XJaXIFbspeE  0.741         0.626   1   -4.826     0     0.0886       0.02000       0.000             0.0828    0.706    108.029  188493       4               41.18681    10        1     \n",
       "1  Surfboard                            Esquivel!                       spotify:track:61APOtq25SCMuK0V5w2Kgp  0.447         0.247   5   -14.661    0     0.0346       0.87100       0.814             0.0946    0.250    155.489  176880       3               33.18083    9         0     \n",
       "2  Love Someone                         Lukas Graham                    spotify:track:2JqnpexlO9dmvjUMCaLCLJ  0.550         0.415   9   -6.557     0     0.0520       0.16100       0.000             0.1080    0.274    172.065  205463       4               44.89147    9         1     \n",
       "3  Music To My Ears (feat. Tory Lanez)  Keys N Krates                   spotify:track:0cjfLhk8WJ3etPTCseKXtk  0.502         0.648   0   -5.698     0     0.0527       0.00513       0.000             0.2040    0.291    91.837   193043       4               29.52521    7         0     \n",
       "4  Juju On That Beat (TZ Anthem)        Zay Hilfigerrr & Zayion McCall  spotify:track:1lItf5ZXJc1by9SbPeljFd  0.807         0.887   1   -3.892     1     0.2750       0.00381       0.000             0.3910    0.780    160.517  144244       4               24.99199    8         1     "
      ]
     },
     "execution_count": 124,
     "metadata": {},
     "output_type": "execute_result"
    }
   ],
   "source": [
    "df_tmp.head()"
   ]
  },
  {
   "cell_type": "code",
   "execution_count": 105,
   "metadata": {},
   "outputs": [
    {
     "data": {
      "text/html": [
       "<div>\n",
       "<style scoped>\n",
       "    .dataframe tbody tr th:only-of-type {\n",
       "        vertical-align: middle;\n",
       "    }\n",
       "\n",
       "    .dataframe tbody tr th {\n",
       "        vertical-align: top;\n",
       "    }\n",
       "\n",
       "    .dataframe thead th {\n",
       "        text-align: right;\n",
       "    }\n",
       "</style>\n",
       "<table border=\"1\" class=\"dataframe\">\n",
       "  <thead>\n",
       "    <tr style=\"text-align: right;\">\n",
       "      <th></th>\n",
       "      <th>danceability</th>\n",
       "      <th>energy</th>\n",
       "      <th>key</th>\n",
       "      <th>loudness</th>\n",
       "      <th>mode</th>\n",
       "      <th>speechiness</th>\n",
       "      <th>acousticness</th>\n",
       "      <th>instrumentalness</th>\n",
       "      <th>liveness</th>\n",
       "      <th>valence</th>\n",
       "      <th>tempo</th>\n",
       "      <th>duration_ms</th>\n",
       "      <th>time_signature</th>\n",
       "      <th>chorus_hit</th>\n",
       "      <th>sections</th>\n",
       "      <th>target</th>\n",
       "    </tr>\n",
       "  </thead>\n",
       "  <tbody>\n",
       "    <tr>\n",
       "      <th>danceability</th>\n",
       "      <td>1.000000</td>\n",
       "      <td>0.069645</td>\n",
       "      <td>0.012429</td>\n",
       "      <td>0.300576</td>\n",
       "      <td>-0.057280</td>\n",
       "      <td>0.200090</td>\n",
       "      <td>-0.206865</td>\n",
       "      <td>-0.371334</td>\n",
       "      <td>-0.107581</td>\n",
       "      <td>0.494136</td>\n",
       "      <td>-0.056197</td>\n",
       "      <td>-0.224803</td>\n",
       "      <td>0.178671</td>\n",
       "      <td>-0.078254</td>\n",
       "      <td>-0.162908</td>\n",
       "      <td>0.384486</td>\n",
       "    </tr>\n",
       "    <tr>\n",
       "      <th>energy</th>\n",
       "      <td>0.069645</td>\n",
       "      <td>1.000000</td>\n",
       "      <td>0.028703</td>\n",
       "      <td>0.774536</td>\n",
       "      <td>0.004929</td>\n",
       "      <td>0.119194</td>\n",
       "      <td>-0.734853</td>\n",
       "      <td>-0.288263</td>\n",
       "      <td>0.231393</td>\n",
       "      <td>0.281031</td>\n",
       "      <td>0.216886</td>\n",
       "      <td>-0.009228</td>\n",
       "      <td>0.175984</td>\n",
       "      <td>-0.001224</td>\n",
       "      <td>-0.074466</td>\n",
       "      <td>0.060701</td>\n",
       "    </tr>\n",
       "    <tr>\n",
       "      <th>key</th>\n",
       "      <td>0.012429</td>\n",
       "      <td>0.028703</td>\n",
       "      <td>1.000000</td>\n",
       "      <td>0.010824</td>\n",
       "      <td>-0.146063</td>\n",
       "      <td>0.022796</td>\n",
       "      <td>-0.021271</td>\n",
       "      <td>-0.013049</td>\n",
       "      <td>0.021785</td>\n",
       "      <td>0.019572</td>\n",
       "      <td>0.009259</td>\n",
       "      <td>0.011028</td>\n",
       "      <td>-0.008462</td>\n",
       "      <td>0.001960</td>\n",
       "      <td>0.002512</td>\n",
       "      <td>0.005548</td>\n",
       "    </tr>\n",
       "    <tr>\n",
       "      <th>loudness</th>\n",
       "      <td>0.300576</td>\n",
       "      <td>0.774536</td>\n",
       "      <td>0.010824</td>\n",
       "      <td>1.000000</td>\n",
       "      <td>0.021064</td>\n",
       "      <td>0.122028</td>\n",
       "      <td>-0.648717</td>\n",
       "      <td>-0.533671</td>\n",
       "      <td>0.126807</td>\n",
       "      <td>0.324985</td>\n",
       "      <td>0.194467</td>\n",
       "      <td>-0.094598</td>\n",
       "      <td>0.207436</td>\n",
       "      <td>-0.042665</td>\n",
       "      <td>-0.111469</td>\n",
       "      <td>0.327471</td>\n",
       "    </tr>\n",
       "    <tr>\n",
       "      <th>mode</th>\n",
       "      <td>-0.057280</td>\n",
       "      <td>0.004929</td>\n",
       "      <td>-0.146063</td>\n",
       "      <td>0.021064</td>\n",
       "      <td>1.000000</td>\n",
       "      <td>-0.090107</td>\n",
       "      <td>0.011424</td>\n",
       "      <td>-0.037132</td>\n",
       "      <td>-0.011590</td>\n",
       "      <td>0.018198</td>\n",
       "      <td>0.032180</td>\n",
       "      <td>-0.042125</td>\n",
       "      <td>0.014125</td>\n",
       "      <td>-0.007967</td>\n",
       "      <td>-0.030129</td>\n",
       "      <td>0.032021</td>\n",
       "    </tr>\n",
       "    <tr>\n",
       "      <th>speechiness</th>\n",
       "      <td>0.200090</td>\n",
       "      <td>0.119194</td>\n",
       "      <td>0.022796</td>\n",
       "      <td>0.122028</td>\n",
       "      <td>-0.090107</td>\n",
       "      <td>1.000000</td>\n",
       "      <td>-0.134226</td>\n",
       "      <td>-0.148649</td>\n",
       "      <td>0.121075</td>\n",
       "      <td>0.053836</td>\n",
       "      <td>0.117813</td>\n",
       "      <td>-0.071826</td>\n",
       "      <td>0.063656</td>\n",
       "      <td>0.001857</td>\n",
       "      <td>-0.035077</td>\n",
       "      <td>0.097783</td>\n",
       "    </tr>\n",
       "    <tr>\n",
       "      <th>acousticness</th>\n",
       "      <td>-0.206865</td>\n",
       "      <td>-0.734853</td>\n",
       "      <td>-0.021271</td>\n",
       "      <td>-0.648717</td>\n",
       "      <td>0.011424</td>\n",
       "      <td>-0.134226</td>\n",
       "      <td>1.000000</td>\n",
       "      <td>0.315563</td>\n",
       "      <td>-0.149926</td>\n",
       "      <td>-0.166253</td>\n",
       "      <td>-0.182050</td>\n",
       "      <td>-0.039567</td>\n",
       "      <td>-0.191607</td>\n",
       "      <td>0.001477</td>\n",
       "      <td>0.024583</td>\n",
       "      <td>-0.184479</td>\n",
       "    </tr>\n",
       "    <tr>\n",
       "      <th>instrumentalness</th>\n",
       "      <td>-0.371334</td>\n",
       "      <td>-0.288263</td>\n",
       "      <td>-0.013049</td>\n",
       "      <td>-0.533671</td>\n",
       "      <td>-0.037132</td>\n",
       "      <td>-0.148649</td>\n",
       "      <td>0.315563</td>\n",
       "      <td>1.000000</td>\n",
       "      <td>-0.049879</td>\n",
       "      <td>-0.334662</td>\n",
       "      <td>-0.083487</td>\n",
       "      <td>0.183696</td>\n",
       "      <td>-0.133629</td>\n",
       "      <td>0.093847</td>\n",
       "      <td>0.114927</td>\n",
       "      <td>-0.499624</td>\n",
       "    </tr>\n",
       "    <tr>\n",
       "      <th>liveness</th>\n",
       "      <td>-0.107581</td>\n",
       "      <td>0.231393</td>\n",
       "      <td>0.021785</td>\n",
       "      <td>0.126807</td>\n",
       "      <td>-0.011590</td>\n",
       "      <td>0.121075</td>\n",
       "      <td>-0.149926</td>\n",
       "      <td>-0.049879</td>\n",
       "      <td>1.000000</td>\n",
       "      <td>-0.016562</td>\n",
       "      <td>0.038555</td>\n",
       "      <td>0.040219</td>\n",
       "      <td>0.026185</td>\n",
       "      <td>0.043099</td>\n",
       "      <td>0.008406</td>\n",
       "      <td>-0.062612</td>\n",
       "    </tr>\n",
       "    <tr>\n",
       "      <th>valence</th>\n",
       "      <td>0.494136</td>\n",
       "      <td>0.281031</td>\n",
       "      <td>0.019572</td>\n",
       "      <td>0.324985</td>\n",
       "      <td>0.018198</td>\n",
       "      <td>0.053836</td>\n",
       "      <td>-0.166253</td>\n",
       "      <td>-0.334662</td>\n",
       "      <td>-0.016562</td>\n",
       "      <td>1.000000</td>\n",
       "      <td>0.053572</td>\n",
       "      <td>-0.248445</td>\n",
       "      <td>0.117049</td>\n",
       "      <td>-0.103274</td>\n",
       "      <td>-0.168675</td>\n",
       "      <td>0.203774</td>\n",
       "    </tr>\n",
       "    <tr>\n",
       "      <th>tempo</th>\n",
       "      <td>-0.056197</td>\n",
       "      <td>0.216886</td>\n",
       "      <td>0.009259</td>\n",
       "      <td>0.194467</td>\n",
       "      <td>0.032180</td>\n",
       "      <td>0.117813</td>\n",
       "      <td>-0.182050</td>\n",
       "      <td>-0.083487</td>\n",
       "      <td>0.038555</td>\n",
       "      <td>0.053572</td>\n",
       "      <td>1.000000</td>\n",
       "      <td>-0.019830</td>\n",
       "      <td>0.025892</td>\n",
       "      <td>-0.060944</td>\n",
       "      <td>0.048688</td>\n",
       "      <td>0.039226</td>\n",
       "    </tr>\n",
       "    <tr>\n",
       "      <th>duration_ms</th>\n",
       "      <td>-0.224803</td>\n",
       "      <td>-0.009228</td>\n",
       "      <td>0.011028</td>\n",
       "      <td>-0.094598</td>\n",
       "      <td>-0.042125</td>\n",
       "      <td>-0.071826</td>\n",
       "      <td>-0.039567</td>\n",
       "      <td>0.183696</td>\n",
       "      <td>0.040219</td>\n",
       "      <td>-0.248445</td>\n",
       "      <td>-0.019830</td>\n",
       "      <td>1.000000</td>\n",
       "      <td>0.000599</td>\n",
       "      <td>0.096040</td>\n",
       "      <td>0.810253</td>\n",
       "      <td>-0.189203</td>\n",
       "    </tr>\n",
       "    <tr>\n",
       "      <th>time_signature</th>\n",
       "      <td>0.178671</td>\n",
       "      <td>0.175984</td>\n",
       "      <td>-0.008462</td>\n",
       "      <td>0.207436</td>\n",
       "      <td>0.014125</td>\n",
       "      <td>0.063656</td>\n",
       "      <td>-0.191607</td>\n",
       "      <td>-0.133629</td>\n",
       "      <td>0.026185</td>\n",
       "      <td>0.117049</td>\n",
       "      <td>0.025892</td>\n",
       "      <td>0.000599</td>\n",
       "      <td>1.000000</td>\n",
       "      <td>-0.031763</td>\n",
       "      <td>-0.012843</td>\n",
       "      <td>0.127544</td>\n",
       "    </tr>\n",
       "    <tr>\n",
       "      <th>chorus_hit</th>\n",
       "      <td>-0.078254</td>\n",
       "      <td>-0.001224</td>\n",
       "      <td>0.001960</td>\n",
       "      <td>-0.042665</td>\n",
       "      <td>-0.007967</td>\n",
       "      <td>0.001857</td>\n",
       "      <td>0.001477</td>\n",
       "      <td>0.093847</td>\n",
       "      <td>0.043099</td>\n",
       "      <td>-0.103274</td>\n",
       "      <td>-0.060944</td>\n",
       "      <td>0.096040</td>\n",
       "      <td>-0.031763</td>\n",
       "      <td>1.000000</td>\n",
       "      <td>-0.158206</td>\n",
       "      <td>-0.085587</td>\n",
       "    </tr>\n",
       "    <tr>\n",
       "      <th>sections</th>\n",
       "      <td>-0.162908</td>\n",
       "      <td>-0.074466</td>\n",
       "      <td>0.002512</td>\n",
       "      <td>-0.111469</td>\n",
       "      <td>-0.030129</td>\n",
       "      <td>-0.035077</td>\n",
       "      <td>0.024583</td>\n",
       "      <td>0.114927</td>\n",
       "      <td>0.008406</td>\n",
       "      <td>-0.168675</td>\n",
       "      <td>0.048688</td>\n",
       "      <td>0.810253</td>\n",
       "      <td>-0.012843</td>\n",
       "      <td>-0.158206</td>\n",
       "      <td>1.000000</td>\n",
       "      <td>-0.113383</td>\n",
       "    </tr>\n",
       "    <tr>\n",
       "      <th>target</th>\n",
       "      <td>0.384486</td>\n",
       "      <td>0.060701</td>\n",
       "      <td>0.005548</td>\n",
       "      <td>0.327471</td>\n",
       "      <td>0.032021</td>\n",
       "      <td>0.097783</td>\n",
       "      <td>-0.184479</td>\n",
       "      <td>-0.499624</td>\n",
       "      <td>-0.062612</td>\n",
       "      <td>0.203774</td>\n",
       "      <td>0.039226</td>\n",
       "      <td>-0.189203</td>\n",
       "      <td>0.127544</td>\n",
       "      <td>-0.085587</td>\n",
       "      <td>-0.113383</td>\n",
       "      <td>1.000000</td>\n",
       "    </tr>\n",
       "  </tbody>\n",
       "</table>\n",
       "</div>"
      ],
      "text/plain": [
       "                  danceability    energy       key  loudness      mode  speechiness  acousticness  instrumentalness  liveness   valence     tempo  duration_ms  time_signature  chorus_hit  sections    target\n",
       "danceability      1.000000      0.069645  0.012429  0.300576 -0.057280  0.200090    -0.206865     -0.371334         -0.107581  0.494136 -0.056197 -0.224803     0.178671       -0.078254   -0.162908  0.384486\n",
       "energy            0.069645      1.000000  0.028703  0.774536  0.004929  0.119194    -0.734853     -0.288263          0.231393  0.281031  0.216886 -0.009228     0.175984       -0.001224   -0.074466  0.060701\n",
       "key               0.012429      0.028703  1.000000  0.010824 -0.146063  0.022796    -0.021271     -0.013049          0.021785  0.019572  0.009259  0.011028    -0.008462        0.001960    0.002512  0.005548\n",
       "loudness          0.300576      0.774536  0.010824  1.000000  0.021064  0.122028    -0.648717     -0.533671          0.126807  0.324985  0.194467 -0.094598     0.207436       -0.042665   -0.111469  0.327471\n",
       "mode             -0.057280      0.004929 -0.146063  0.021064  1.000000 -0.090107     0.011424     -0.037132         -0.011590  0.018198  0.032180 -0.042125     0.014125       -0.007967   -0.030129  0.032021\n",
       "speechiness       0.200090      0.119194  0.022796  0.122028 -0.090107  1.000000    -0.134226     -0.148649          0.121075  0.053836  0.117813 -0.071826     0.063656        0.001857   -0.035077  0.097783\n",
       "acousticness     -0.206865     -0.734853 -0.021271 -0.648717  0.011424 -0.134226     1.000000      0.315563         -0.149926 -0.166253 -0.182050 -0.039567    -0.191607        0.001477    0.024583 -0.184479\n",
       "instrumentalness -0.371334     -0.288263 -0.013049 -0.533671 -0.037132 -0.148649     0.315563      1.000000         -0.049879 -0.334662 -0.083487  0.183696    -0.133629        0.093847    0.114927 -0.499624\n",
       "liveness         -0.107581      0.231393  0.021785  0.126807 -0.011590  0.121075    -0.149926     -0.049879          1.000000 -0.016562  0.038555  0.040219     0.026185        0.043099    0.008406 -0.062612\n",
       "valence           0.494136      0.281031  0.019572  0.324985  0.018198  0.053836    -0.166253     -0.334662         -0.016562  1.000000  0.053572 -0.248445     0.117049       -0.103274   -0.168675  0.203774\n",
       "tempo            -0.056197      0.216886  0.009259  0.194467  0.032180  0.117813    -0.182050     -0.083487          0.038555  0.053572  1.000000 -0.019830     0.025892       -0.060944    0.048688  0.039226\n",
       "duration_ms      -0.224803     -0.009228  0.011028 -0.094598 -0.042125 -0.071826    -0.039567      0.183696          0.040219 -0.248445 -0.019830  1.000000     0.000599        0.096040    0.810253 -0.189203\n",
       "time_signature    0.178671      0.175984 -0.008462  0.207436  0.014125  0.063656    -0.191607     -0.133629          0.026185  0.117049  0.025892  0.000599     1.000000       -0.031763   -0.012843  0.127544\n",
       "chorus_hit       -0.078254     -0.001224  0.001960 -0.042665 -0.007967  0.001857     0.001477      0.093847          0.043099 -0.103274 -0.060944  0.096040    -0.031763        1.000000   -0.158206 -0.085587\n",
       "sections         -0.162908     -0.074466  0.002512 -0.111469 -0.030129 -0.035077     0.024583      0.114927          0.008406 -0.168675  0.048688  0.810253    -0.012843       -0.158206    1.000000 -0.113383\n",
       "target            0.384486      0.060701  0.005548  0.327471  0.032021  0.097783    -0.184479     -0.499624         -0.062612  0.203774  0.039226 -0.189203     0.127544       -0.085587   -0.113383  1.000000"
      ]
     },
     "execution_count": 105,
     "metadata": {},
     "output_type": "execute_result"
    }
   ],
   "source": [
    "df.corr()"
   ]
  },
  {
   "cell_type": "code",
   "execution_count": 125,
   "metadata": {},
   "outputs": [
    {
     "data": {
      "image/png": "[encoded data removed]",
      "text/plain": [
       "<Figure size 1080x720 with 2 Axes>"
      ]
     },
     "metadata": {
      "needs_background": "light"
     },
     "output_type": "display_data"
    }
   ],
   "source": [
    "corr_matrix = df_tmp.corr() \n",
    "plt.figure(figsize=(15, 10)) \n",
    "sns.heatmap(corr_matrix,\n",
    "            annot=True,              \n",
    "            linewidths=0.5,              \n",
    "            fmt= \".2f\",              \n",
    "            cmap=\"YlGnBu\"); "
   ]
  },
  {
   "cell_type": "markdown",
   "metadata": {},
   "source": [
    "#as danceability goes up, the target also goes up\n",
    "#as instrumentals goes down, the target goes up..."
   ]
  },
  {
   "cell_type": "code",
   "execution_count": 130,
   "metadata": {},
   "outputs": [
    {
     "data": {
      "text/plain": [
       "<matplotlib.legend.Legend at 0x122f831c0>"
      ]
     },
     "execution_count": 130,
     "metadata": {},
     "output_type": "execute_result"
    },
    {
     "data": {
      "image/png": "[encoded data removed]",
      "text/plain": [
       "<Figure size 720x432 with 1 Axes>"
      ]
     },
     "metadata": {
      "needs_background": "light"
     },
     "output_type": "display_data"
    }
   ],
   "source": [
    "# Create a new crosstab and base plot \n",
    "pd.crosstab(df_tmp.sections, df_tmp.target).plot(kind=\"bar\",                                     \n",
    "                                   figsize=(10,6),                                     \n",
    "                                   color=[\"lightblue\", \"darkgreen\"])  \n",
    "# Add attributes to the plot to make it more readable \n",
    "plt.title(\"sections vs target\") \n",
    "plt.xlabel(\"sections\") \n",
    "plt.ylabel(\"Frequency\") \n",
    "plt.legend([\"Flop\", \"Hit\"]) \n",
    "#plt.xticks(rotation = 0); "
   ]
  },
  {
   "cell_type": "code",
   "execution_count": 131,
   "metadata": {},
   "outputs": [
    {
     "data": {
      "text/plain": [
       "track               0\n",
       "artist              0\n",
       "uri                 0\n",
       "danceability        0\n",
       "energy              0\n",
       "key                 0\n",
       "loudness            0\n",
       "mode                0\n",
       "speechiness         0\n",
       "acousticness        0\n",
       "instrumentalness    0\n",
       "liveness            0\n",
       "valence             0\n",
       "tempo               0\n",
       "duration_ms         0\n",
       "time_signature      0\n",
       "chorus_hit          0\n",
       "sections            0\n",
       "target              0\n",
       "dtype: int64"
      ]
     },
     "execution_count": 131,
     "metadata": {},
     "output_type": "execute_result"
    }
   ],
   "source": [
    "df_tmp.isna().sum()"
   ]
  },
  {
   "cell_type": "code",
   "execution_count": 132,
   "metadata": {},
   "outputs": [
    {
     "data": {
      "text/html": [
       "<div>\n",
       "<style scoped>\n",
       "    .dataframe tbody tr th:only-of-type {\n",
       "        vertical-align: middle;\n",
       "    }\n",
       "\n",
       "    .dataframe tbody tr th {\n",
       "        vertical-align: top;\n",
       "    }\n",
       "\n",
       "    .dataframe thead th {\n",
       "        text-align: right;\n",
       "    }\n",
       "</style>\n",
       "<table border=\"1\" class=\"dataframe\">\n",
       "  <thead>\n",
       "    <tr style=\"text-align: right;\">\n",
       "      <th></th>\n",
       "      <th>0</th>\n",
       "      <th>1</th>\n",
       "      <th>2</th>\n",
       "      <th>3</th>\n",
       "      <th>4</th>\n",
       "    </tr>\n",
       "  </thead>\n",
       "  <tbody>\n",
       "    <tr>\n",
       "      <th>track</th>\n",
       "      <td>Wild Things</td>\n",
       "      <td>Surfboard</td>\n",
       "      <td>Love Someone</td>\n",
       "      <td>Music To My Ears (feat. Tory Lanez)</td>\n",
       "      <td>Juju On That Beat (TZ Anthem)</td>\n",
       "    </tr>\n",
       "    <tr>\n",
       "      <th>artist</th>\n",
       "      <td>Alessia Cara</td>\n",
       "      <td>Esquivel!</td>\n",
       "      <td>Lukas Graham</td>\n",
       "      <td>Keys N Krates</td>\n",
       "      <td>Zay Hilfigerrr &amp; Zayion McCall</td>\n",
       "    </tr>\n",
       "    <tr>\n",
       "      <th>uri</th>\n",
       "      <td>spotify:track:2ZyuwVvV6Z3XJaXIFbspeE</td>\n",
       "      <td>spotify:track:61APOtq25SCMuK0V5w2Kgp</td>\n",
       "      <td>spotify:track:2JqnpexlO9dmvjUMCaLCLJ</td>\n",
       "      <td>spotify:track:0cjfLhk8WJ3etPTCseKXtk</td>\n",
       "      <td>spotify:track:1lItf5ZXJc1by9SbPeljFd</td>\n",
       "    </tr>\n",
       "    <tr>\n",
       "      <th>danceability</th>\n",
       "      <td>0.741</td>\n",
       "      <td>0.447</td>\n",
       "      <td>0.55</td>\n",
       "      <td>0.502</td>\n",
       "      <td>0.807</td>\n",
       "    </tr>\n",
       "    <tr>\n",
       "      <th>energy</th>\n",
       "      <td>0.626</td>\n",
       "      <td>0.247</td>\n",
       "      <td>0.415</td>\n",
       "      <td>0.648</td>\n",
       "      <td>0.887</td>\n",
       "    </tr>\n",
       "    <tr>\n",
       "      <th>key</th>\n",
       "      <td>1</td>\n",
       "      <td>5</td>\n",
       "      <td>9</td>\n",
       "      <td>0</td>\n",
       "      <td>1</td>\n",
       "    </tr>\n",
       "    <tr>\n",
       "      <th>loudness</th>\n",
       "      <td>-4.826</td>\n",
       "      <td>-14.661</td>\n",
       "      <td>-6.557</td>\n",
       "      <td>-5.698</td>\n",
       "      <td>-3.892</td>\n",
       "    </tr>\n",
       "    <tr>\n",
       "      <th>mode</th>\n",
       "      <td>0</td>\n",
       "      <td>0</td>\n",
       "      <td>0</td>\n",
       "      <td>0</td>\n",
       "      <td>1</td>\n",
       "    </tr>\n",
       "    <tr>\n",
       "      <th>speechiness</th>\n",
       "      <td>0.0886</td>\n",
       "      <td>0.0346</td>\n",
       "      <td>0.052</td>\n",
       "      <td>0.0527</td>\n",
       "      <td>0.275</td>\n",
       "    </tr>\n",
       "    <tr>\n",
       "      <th>acousticness</th>\n",
       "      <td>0.02</td>\n",
       "      <td>0.871</td>\n",
       "      <td>0.161</td>\n",
       "      <td>0.00513</td>\n",
       "      <td>0.00381</td>\n",
       "    </tr>\n",
       "    <tr>\n",
       "      <th>instrumentalness</th>\n",
       "      <td>0</td>\n",
       "      <td>0.814</td>\n",
       "      <td>0</td>\n",
       "      <td>0</td>\n",
       "      <td>0</td>\n",
       "    </tr>\n",
       "    <tr>\n",
       "      <th>liveness</th>\n",
       "      <td>0.0828</td>\n",
       "      <td>0.0946</td>\n",
       "      <td>0.108</td>\n",
       "      <td>0.204</td>\n",
       "      <td>0.391</td>\n",
       "    </tr>\n",
       "    <tr>\n",
       "      <th>valence</th>\n",
       "      <td>0.706</td>\n",
       "      <td>0.25</td>\n",
       "      <td>0.274</td>\n",
       "      <td>0.291</td>\n",
       "      <td>0.78</td>\n",
       "    </tr>\n",
       "    <tr>\n",
       "      <th>tempo</th>\n",
       "      <td>108.029</td>\n",
       "      <td>155.489</td>\n",
       "      <td>172.065</td>\n",
       "      <td>91.837</td>\n",
       "      <td>160.517</td>\n",
       "    </tr>\n",
       "    <tr>\n",
       "      <th>duration_ms</th>\n",
       "      <td>188493</td>\n",
       "      <td>176880</td>\n",
       "      <td>205463</td>\n",
       "      <td>193043</td>\n",
       "      <td>144244</td>\n",
       "    </tr>\n",
       "    <tr>\n",
       "      <th>time_signature</th>\n",
       "      <td>4</td>\n",
       "      <td>3</td>\n",
       "      <td>4</td>\n",
       "      <td>4</td>\n",
       "      <td>4</td>\n",
       "    </tr>\n",
       "    <tr>\n",
       "      <th>chorus_hit</th>\n",
       "      <td>41.1868</td>\n",
       "      <td>33.1808</td>\n",
       "      <td>44.8915</td>\n",
       "      <td>29.5252</td>\n",
       "      <td>24.992</td>\n",
       "    </tr>\n",
       "    <tr>\n",
       "      <th>sections</th>\n",
       "      <td>10</td>\n",
       "      <td>9</td>\n",
       "      <td>9</td>\n",
       "      <td>7</td>\n",
       "      <td>8</td>\n",
       "    </tr>\n",
       "    <tr>\n",
       "      <th>target</th>\n",
       "      <td>1</td>\n",
       "      <td>0</td>\n",
       "      <td>1</td>\n",
       "      <td>0</td>\n",
       "      <td>1</td>\n",
       "    </tr>\n",
       "  </tbody>\n",
       "</table>\n",
       "</div>"
      ],
      "text/plain": [
       "                                                     0                                     1                                     2                                     3                                     4\n",
       "track             Wild Things                           Surfboard                             Love Someone                          Music To My Ears (feat. Tory Lanez)   Juju On That Beat (TZ Anthem)       \n",
       "artist            Alessia Cara                          Esquivel!                             Lukas Graham                          Keys N Krates                         Zay Hilfigerrr & Zayion McCall      \n",
       "uri               spotify:track:2ZyuwVvV6Z3XJaXIFbspeE  spotify:track:61APOtq25SCMuK0V5w2Kgp  spotify:track:2JqnpexlO9dmvjUMCaLCLJ  spotify:track:0cjfLhk8WJ3etPTCseKXtk  spotify:track:1lItf5ZXJc1by9SbPeljFd\n",
       "danceability      0.741                                 0.447                                 0.55                                  0.502                                 0.807                               \n",
       "energy            0.626                                 0.247                                 0.415                                 0.648                                 0.887                               \n",
       "key               1                                     5                                     9                                     0                                     1                                   \n",
       "loudness         -4.826                                -14.661                               -6.557                                -5.698                                -3.892                               \n",
       "mode              0                                     0                                     0                                     0                                     1                                   \n",
       "speechiness       0.0886                                0.0346                                0.052                                 0.0527                                0.275                               \n",
       "acousticness      0.02                                  0.871                                 0.161                                 0.00513                               0.00381                             \n",
       "instrumentalness  0                                     0.814                                 0                                     0                                     0                                   \n",
       "liveness          0.0828                                0.0946                                0.108                                 0.204                                 0.391                               \n",
       "valence           0.706                                 0.25                                  0.274                                 0.291                                 0.78                                \n",
       "tempo             108.029                               155.489                               172.065                               91.837                                160.517                             \n",
       "duration_ms       188493                                176880                                205463                                193043                                144244                              \n",
       "time_signature    4                                     3                                     4                                     4                                     4                                   \n",
       "chorus_hit        41.1868                               33.1808                               44.8915                               29.5252                               24.992                              \n",
       "sections          10                                    9                                     9                                     7                                     8                                   \n",
       "target            1                                     0                                     1                                     0                                     1                                   "
      ]
     },
     "execution_count": 132,
     "metadata": {},
     "output_type": "execute_result"
    }
   ],
   "source": [
    "df_tmp.head().T"
   ]
  },
  {
   "cell_type": "code",
   "execution_count": 149,
   "metadata": {},
   "outputs": [
    {
     "data": {
      "image/png": "[encoded data removed]",
      "text/plain": [
       "<Figure size 720x432 with 1 Axes>"
      ]
     },
     "metadata": {
      "needs_background": "light"
     },
     "output_type": "display_data"
    }
   ],
   "source": [
    "#Because there are so many different values for danceability and loudness, we'll use a scatter plot.\n",
    "\n",
    "# Create another figure\n",
    "plt.figure(figsize=(10,6))\n",
    "\n",
    "\n",
    "# Start with positve examples\n",
    "plt.scatter(df_tmp.danceability[df_tmp.target==1], \n",
    "            df_tmp.loudness[df_tmp.target==1], \n",
    "            c=\"lightpink\") # define it as a scatter figure\n",
    "\n",
    "# Now for negative examples, we want them on the same plot, so we call plt again\n",
    "plt.scatter(df_tmp.danceability[df_tmp.target==0], \n",
    "            df_tmp.loudness[df_tmp.target==0], \n",
    "            c=\"lightgreen\") # axis always come as (x, y)\n",
    "\n",
    "plt.title(\"Hit in function of danceability and loudness\")\n",
    "plt.xlabel(\"danceability\")\n",
    "plt.ylabel(\"loudness\")\n",
    "plt.legend([\"hit\", \"flop\"]);"
   ]
  },
  {
   "cell_type": "code",
   "execution_count": 147,
   "metadata": {},
   "outputs": [
    {
     "data": {
      "image/png": "[encoded data removed]",
      "text/plain": [
       "<Figure size 432x288 with 1 Axes>"
      ]
     },
     "metadata": {
      "needs_background": "light"
     },
     "output_type": "display_data"
    }
   ],
   "source": [
    "# Histograms are a great way to check the distribution of a variable\n",
    "df_tmp.danceability.plot.hist();"
   ]
  },
  {
   "cell_type": "code",
   "execution_count": 148,
   "metadata": {},
   "outputs": [
    {
     "data": {
      "image/png": "[encoded data removed]",
      "text/plain": [
       "<Figure size 432x288 with 1 Axes>"
      ]
     },
     "metadata": {
      "needs_background": "light"
     },
     "output_type": "display_data"
    }
   ],
   "source": [
    "df_tmp.loudness.plot.hist();"
   ]
  },
  {
   "cell_type": "code",
   "execution_count": 146,
   "metadata": {},
   "outputs": [
    {
     "data": {
      "image/png": "[encoded data removed]",
      "text/plain": [
       "<Figure size 432x288 with 1 Axes>"
      ]
     },
     "metadata": {
      "needs_background": "light"
     },
     "output_type": "display_data"
    }
   ],
   "source": [
    "df_tmp.energy.plot.hist();"
   ]
  },
  {
   "cell_type": "markdown",
   "metadata": {},
   "source": [
    "## 5. Modeling"
   ]
  },
  {
   "cell_type": "code",
   "execution_count": 156,
   "metadata": {},
   "outputs": [],
   "source": [
    "# Split data into X and y\n",
    "X = df_tmp.drop(\"target\", axis=1)\n",
    "\n",
    "y = df_tmp[\"target\"]"
   ]
  },
  {
   "cell_type": "code",
   "execution_count": 157,
   "metadata": {},
   "outputs": [],
   "source": [
    "\n",
    "# Split data into train and test sets\n",
    "np.random.seed(33)\n",
    "\n",
    "# Split into train & test set\n",
    "X_train, X_test, y_train, y_test = train_test_split(X,\n",
    "                                                    y,\n",
    "                                                    test_size=0.2)"
   ]
  },
  {
   "cell_type": "code",
   "execution_count": 153,
   "metadata": {},
   "outputs": [
    {
     "data": {
      "text/plain": [
       "(2497    0\n",
       " 3957    0\n",
       " 4179    0\n",
       " 6247    0\n",
       " 316     0\n",
       "        ..\n",
       " 3273    0\n",
       " 2706    1\n",
       " 578     1\n",
       " 5848    1\n",
       " 2439    0\n",
       " Name: target, Length: 5118, dtype: int64,\n",
       " 5118)"
      ]
     },
     "execution_count": 153,
     "metadata": {},
     "output_type": "execute_result"
    }
   ],
   "source": [
    "y_train, len(y_train)"
   ]
  },
  {
   "cell_type": "markdown",
   "metadata": {},
   "source": [
    "# Train and test \n",
    "Now we've got our data split into training and test sets, it's time to build a machine learning model.\n",
    "\n",
    "We'll train it (find the patterns) on the training set.\n",
    "\n",
    "And we'll test it (use the patterns) on the test set.\n",
    "\n",
    "We're going to try 3 different machine learning models:\n",
    "\n",
    "1. Logistic Regression\n",
    "2. K-Nearest Neighbours Classifier\n",
    "3. Random Forest Classifier\n"
   ]
  },
  {
   "cell_type": "code",
   "execution_count": 158,
   "metadata": {},
   "outputs": [],
   "source": [
    "# Put models in a dictionary\n",
    "models = {\"Logistic Regression\": LogisticRegression(),\n",
    "          \"KNN\": KNeighborsClassifier(),\n",
    "          \"Random Forest\": RandomForestClassifier()}\n",
    "\n",
    "# Create a function to fit and score models\n",
    "def fit_and_score(models, X_train, X_test, y_train, y_test):\n",
    "    \"\"\"\n",
    "    Fits and evaluates given machine learning models.\n",
    "    models : a dict of different Scikit-Learn machine learning models\n",
    "    X_train : training data (no labels)\n",
    "    X_test : testing data (no labels)\n",
    "    y_train : training labels\n",
    "    y_test : test labels\n",
    "    \"\"\"\n",
    "    # Set random seed\n",
    "    np.random.seed(33)\n",
    "    # Make a dictionary to keep model scores\n",
    "    model_scores = {}\n",
    "    # Loop through models\n",
    "    for name, model in models.items():\n",
    "        # Fit the model to the data\n",
    "        model.fit(X_train, y_train)\n",
    "        # Evaluate the model and append its score to model_scores\n",
    "        model_scores[name] = model.score(X_test, y_test)\n",
    "    return model_scores"
   ]
  },
  {
   "cell_type": "code",
   "execution_count": 237,
   "metadata": {},
   "outputs": [
    {
     "ename": "ValueError",
     "evalue": "could not convert string to float: 'spotify:track:22oHNR2kqQKjyKpLbB6IUp'",
     "output_type": "error",
     "traceback": [
      "\u001b[0;31m---------------------------------------------------------------------------\u001b[0m",
      "\u001b[0;31mValueError\u001b[0m                                Traceback (most recent call last)",
      "\u001b[0;32m<ipython-input-237-45b3222e7df1>\u001b[0m in \u001b[0;36m<module>\u001b[0;34m\u001b[0m\n\u001b[0;32m----> 1\u001b[0;31m model_scores = fit_and_score(models=models,\n\u001b[0m\u001b[1;32m      2\u001b[0m                              \u001b[0mX_train\u001b[0m\u001b[0;34m=\u001b[0m\u001b[0mX_train\u001b[0m\u001b[0;34m,\u001b[0m\u001b[0;34m\u001b[0m\u001b[0;34m\u001b[0m\u001b[0m\n\u001b[1;32m      3\u001b[0m                              \u001b[0mX_test\u001b[0m\u001b[0;34m=\u001b[0m\u001b[0mX_test\u001b[0m\u001b[0;34m,\u001b[0m\u001b[0;34m\u001b[0m\u001b[0;34m\u001b[0m\u001b[0m\n\u001b[1;32m      4\u001b[0m                              \u001b[0my_train\u001b[0m\u001b[0;34m=\u001b[0m\u001b[0my_train\u001b[0m\u001b[0;34m,\u001b[0m\u001b[0;34m\u001b[0m\u001b[0;34m\u001b[0m\u001b[0m\n\u001b[1;32m      5\u001b[0m                              y_test=y_test)\n",
      "\u001b[0;32m<ipython-input-235-1df5e3d2565b>\u001b[0m in \u001b[0;36mfit_and_score\u001b[0;34m(models, X_train, X_test, y_train, y_test)\u001b[0m\n\u001b[1;32m     21\u001b[0m     \u001b[0;32mfor\u001b[0m \u001b[0mname\u001b[0m\u001b[0;34m,\u001b[0m \u001b[0mmodel\u001b[0m \u001b[0;32min\u001b[0m \u001b[0mmodels\u001b[0m\u001b[0;34m.\u001b[0m\u001b[0mitems\u001b[0m\u001b[0;34m(\u001b[0m\u001b[0;34m)\u001b[0m\u001b[0;34m:\u001b[0m\u001b[0;34m\u001b[0m\u001b[0;34m\u001b[0m\u001b[0m\n\u001b[1;32m     22\u001b[0m         \u001b[0;31m# Fit the model to the data\u001b[0m\u001b[0;34m\u001b[0m\u001b[0;34m\u001b[0m\u001b[0;34m\u001b[0m\u001b[0m\n\u001b[0;32m---> 23\u001b[0;31m         \u001b[0mmodel\u001b[0m\u001b[0;34m.\u001b[0m\u001b[0mfit\u001b[0m\u001b[0;34m(\u001b[0m\u001b[0mX_train\u001b[0m\u001b[0;34m,\u001b[0m \u001b[0my_train\u001b[0m\u001b[0;34m)\u001b[0m\u001b[0;34m\u001b[0m\u001b[0;34m\u001b[0m\u001b[0m\n\u001b[0m\u001b[1;32m     24\u001b[0m         \u001b[0;31m# Evaluate the model and append its score to model_scores\u001b[0m\u001b[0;34m\u001b[0m\u001b[0;34m\u001b[0m\u001b[0;34m\u001b[0m\u001b[0m\n\u001b[1;32m     25\u001b[0m         \u001b[0mmodel_scores\u001b[0m\u001b[0;34m[\u001b[0m\u001b[0mname\u001b[0m\u001b[0;34m]\u001b[0m \u001b[0;34m=\u001b[0m \u001b[0mmodel\u001b[0m\u001b[0;34m.\u001b[0m\u001b[0mscore\u001b[0m\u001b[0;34m(\u001b[0m\u001b[0mX_test\u001b[0m\u001b[0;34m,\u001b[0m \u001b[0my_test\u001b[0m\u001b[0;34m)\u001b[0m\u001b[0;34m\u001b[0m\u001b[0;34m\u001b[0m\u001b[0m\n",
      "\u001b[0;32m~/Desktop/MLprojects/spotify/env/lib/python3.8/site-packages/sklearn/linear_model/_logistic.py\u001b[0m in \u001b[0;36mfit\u001b[0;34m(self, X, y, sample_weight)\u001b[0m\n\u001b[1;32m   1524\u001b[0m             \u001b[0m_dtype\u001b[0m \u001b[0;34m=\u001b[0m \u001b[0;34m[\u001b[0m\u001b[0mnp\u001b[0m\u001b[0;34m.\u001b[0m\u001b[0mfloat64\u001b[0m\u001b[0;34m,\u001b[0m \u001b[0mnp\u001b[0m\u001b[0;34m.\u001b[0m\u001b[0mfloat32\u001b[0m\u001b[0;34m]\u001b[0m\u001b[0;34m\u001b[0m\u001b[0;34m\u001b[0m\u001b[0m\n\u001b[1;32m   1525\u001b[0m \u001b[0;34m\u001b[0m\u001b[0m\n\u001b[0;32m-> 1526\u001b[0;31m         X, y = check_X_y(X, y, accept_sparse='csr', dtype=_dtype, order=\"C\",\n\u001b[0m\u001b[1;32m   1527\u001b[0m                          accept_large_sparse=solver != 'liblinear')\n\u001b[1;32m   1528\u001b[0m         \u001b[0mcheck_classification_targets\u001b[0m\u001b[0;34m(\u001b[0m\u001b[0my\u001b[0m\u001b[0;34m)\u001b[0m\u001b[0;34m\u001b[0m\u001b[0;34m\u001b[0m\u001b[0m\n",
      "\u001b[0;32m~/Desktop/MLprojects/spotify/env/lib/python3.8/site-packages/sklearn/utils/validation.py\u001b[0m in \u001b[0;36mcheck_X_y\u001b[0;34m(X, y, accept_sparse, accept_large_sparse, dtype, order, copy, force_all_finite, ensure_2d, allow_nd, multi_output, ensure_min_samples, ensure_min_features, y_numeric, warn_on_dtype, estimator)\u001b[0m\n\u001b[1;32m    745\u001b[0m         \u001b[0;32mraise\u001b[0m \u001b[0mValueError\u001b[0m\u001b[0;34m(\u001b[0m\u001b[0;34m\"y cannot be None\"\u001b[0m\u001b[0;34m)\u001b[0m\u001b[0;34m\u001b[0m\u001b[0;34m\u001b[0m\u001b[0m\n\u001b[1;32m    746\u001b[0m \u001b[0;34m\u001b[0m\u001b[0m\n\u001b[0;32m--> 747\u001b[0;31m     X = check_array(X, accept_sparse=accept_sparse,\n\u001b[0m\u001b[1;32m    748\u001b[0m                     \u001b[0maccept_large_sparse\u001b[0m\u001b[0;34m=\u001b[0m\u001b[0maccept_large_sparse\u001b[0m\u001b[0;34m,\u001b[0m\u001b[0;34m\u001b[0m\u001b[0;34m\u001b[0m\u001b[0m\n\u001b[1;32m    749\u001b[0m                     \u001b[0mdtype\u001b[0m\u001b[0;34m=\u001b[0m\u001b[0mdtype\u001b[0m\u001b[0;34m,\u001b[0m \u001b[0morder\u001b[0m\u001b[0;34m=\u001b[0m\u001b[0morder\u001b[0m\u001b[0;34m,\u001b[0m \u001b[0mcopy\u001b[0m\u001b[0;34m=\u001b[0m\u001b[0mcopy\u001b[0m\u001b[0;34m,\u001b[0m\u001b[0;34m\u001b[0m\u001b[0;34m\u001b[0m\u001b[0m\n",
      "\u001b[0;32m~/Desktop/MLprojects/spotify/env/lib/python3.8/site-packages/sklearn/utils/validation.py\u001b[0m in \u001b[0;36mcheck_array\u001b[0;34m(array, accept_sparse, accept_large_sparse, dtype, order, copy, force_all_finite, ensure_2d, allow_nd, ensure_min_samples, ensure_min_features, warn_on_dtype, estimator)\u001b[0m\n\u001b[1;32m    529\u001b[0m                     \u001b[0marray\u001b[0m \u001b[0;34m=\u001b[0m \u001b[0marray\u001b[0m\u001b[0;34m.\u001b[0m\u001b[0mastype\u001b[0m\u001b[0;34m(\u001b[0m\u001b[0mdtype\u001b[0m\u001b[0;34m,\u001b[0m \u001b[0mcasting\u001b[0m\u001b[0;34m=\u001b[0m\u001b[0;34m\"unsafe\"\u001b[0m\u001b[0;34m,\u001b[0m \u001b[0mcopy\u001b[0m\u001b[0;34m=\u001b[0m\u001b[0;32mFalse\u001b[0m\u001b[0;34m)\u001b[0m\u001b[0;34m\u001b[0m\u001b[0;34m\u001b[0m\u001b[0m\n\u001b[1;32m    530\u001b[0m                 \u001b[0;32melse\u001b[0m\u001b[0;34m:\u001b[0m\u001b[0;34m\u001b[0m\u001b[0;34m\u001b[0m\u001b[0m\n\u001b[0;32m--> 531\u001b[0;31m                     \u001b[0marray\u001b[0m \u001b[0;34m=\u001b[0m \u001b[0mnp\u001b[0m\u001b[0;34m.\u001b[0m\u001b[0masarray\u001b[0m\u001b[0;34m(\u001b[0m\u001b[0marray\u001b[0m\u001b[0;34m,\u001b[0m \u001b[0morder\u001b[0m\u001b[0;34m=\u001b[0m\u001b[0morder\u001b[0m\u001b[0;34m,\u001b[0m \u001b[0mdtype\u001b[0m\u001b[0;34m=\u001b[0m\u001b[0mdtype\u001b[0m\u001b[0;34m)\u001b[0m\u001b[0;34m\u001b[0m\u001b[0;34m\u001b[0m\u001b[0m\n\u001b[0m\u001b[1;32m    532\u001b[0m             \u001b[0;32mexcept\u001b[0m \u001b[0mComplexWarning\u001b[0m\u001b[0;34m:\u001b[0m\u001b[0;34m\u001b[0m\u001b[0;34m\u001b[0m\u001b[0m\n\u001b[1;32m    533\u001b[0m                 raise ValueError(\"Complex data not supported\\n\"\n",
      "\u001b[0;32m~/Desktop/MLprojects/spotify/env/lib/python3.8/site-packages/numpy/core/_asarray.py\u001b[0m in \u001b[0;36masarray\u001b[0;34m(a, dtype, order)\u001b[0m\n\u001b[1;32m     83\u001b[0m \u001b[0;34m\u001b[0m\u001b[0m\n\u001b[1;32m     84\u001b[0m     \"\"\"\n\u001b[0;32m---> 85\u001b[0;31m     \u001b[0;32mreturn\u001b[0m \u001b[0marray\u001b[0m\u001b[0;34m(\u001b[0m\u001b[0ma\u001b[0m\u001b[0;34m,\u001b[0m \u001b[0mdtype\u001b[0m\u001b[0;34m,\u001b[0m \u001b[0mcopy\u001b[0m\u001b[0;34m=\u001b[0m\u001b[0;32mFalse\u001b[0m\u001b[0;34m,\u001b[0m \u001b[0morder\u001b[0m\u001b[0;34m=\u001b[0m\u001b[0morder\u001b[0m\u001b[0;34m)\u001b[0m\u001b[0;34m\u001b[0m\u001b[0;34m\u001b[0m\u001b[0m\n\u001b[0m\u001b[1;32m     86\u001b[0m \u001b[0;34m\u001b[0m\u001b[0m\n\u001b[1;32m     87\u001b[0m \u001b[0;34m\u001b[0m\u001b[0m\n",
      "\u001b[0;31mValueError\u001b[0m: could not convert string to float: 'spotify:track:22oHNR2kqQKjyKpLbB6IUp'"
     ]
    }
   ],
   "source": [
    "model_scores = fit_and_score(models=models,\n",
    "                             X_train=X_train,\n",
    "                             X_test=X_test,\n",
    "                             y_train=y_train,\n",
    "                             y_test=y_test)\n",
    "\n",
    "model_scores"
   ]
  },
  {
   "cell_type": "code",
   "execution_count": 227,
   "metadata": {},
   "outputs": [
    {
     "data": {
      "text/html": [
       "<div>\n",
       "<style scoped>\n",
       "    .dataframe tbody tr th:only-of-type {\n",
       "        vertical-align: middle;\n",
       "    }\n",
       "\n",
       "    .dataframe tbody tr th {\n",
       "        vertical-align: top;\n",
       "    }\n",
       "\n",
       "    .dataframe thead th {\n",
       "        text-align: right;\n",
       "    }\n",
       "</style>\n",
       "<table border=\"1\" class=\"dataframe\">\n",
       "  <thead>\n",
       "    <tr style=\"text-align: right;\">\n",
       "      <th></th>\n",
       "      <th>track</th>\n",
       "      <th>artist</th>\n",
       "      <th>uri</th>\n",
       "      <th>danceability</th>\n",
       "      <th>energy</th>\n",
       "      <th>key</th>\n",
       "      <th>loudness</th>\n",
       "      <th>mode</th>\n",
       "      <th>speechiness</th>\n",
       "      <th>acousticness</th>\n",
       "      <th>instrumentalness</th>\n",
       "      <th>liveness</th>\n",
       "      <th>valence</th>\n",
       "      <th>tempo</th>\n",
       "      <th>duration_ms</th>\n",
       "      <th>time_signature</th>\n",
       "      <th>chorus_hit</th>\n",
       "      <th>sections</th>\n",
       "      <th>target</th>\n",
       "    </tr>\n",
       "  </thead>\n",
       "  <tbody>\n",
       "    <tr>\n",
       "      <th>0</th>\n",
       "      <td>Wild Things</td>\n",
       "      <td>Alessia Cara</td>\n",
       "      <td>spotify track 2ZyuwVvV6Z3XJaXIFbspeE</td>\n",
       "      <td>0.741</td>\n",
       "      <td>0.626</td>\n",
       "      <td>1</td>\n",
       "      <td>-4.826</td>\n",
       "      <td>0</td>\n",
       "      <td>0.0886</td>\n",
       "      <td>0.02000</td>\n",
       "      <td>0.000000</td>\n",
       "      <td>0.0828</td>\n",
       "      <td>0.7060</td>\n",
       "      <td>108.029</td>\n",
       "      <td>188493</td>\n",
       "      <td>4</td>\n",
       "      <td>41.18681</td>\n",
       "      <td>10</td>\n",
       "      <td>1</td>\n",
       "    </tr>\n",
       "    <tr>\n",
       "      <th>1</th>\n",
       "      <td>Surfboard</td>\n",
       "      <td>Esquivel!</td>\n",
       "      <td>spotify track 61APOtq25SCMuK0V5w2Kgp</td>\n",
       "      <td>0.447</td>\n",
       "      <td>0.247</td>\n",
       "      <td>5</td>\n",
       "      <td>-14.661</td>\n",
       "      <td>0</td>\n",
       "      <td>0.0346</td>\n",
       "      <td>0.87100</td>\n",
       "      <td>0.814000</td>\n",
       "      <td>0.0946</td>\n",
       "      <td>0.2500</td>\n",
       "      <td>155.489</td>\n",
       "      <td>176880</td>\n",
       "      <td>3</td>\n",
       "      <td>33.18083</td>\n",
       "      <td>9</td>\n",
       "      <td>0</td>\n",
       "    </tr>\n",
       "    <tr>\n",
       "      <th>2</th>\n",
       "      <td>Love Someone</td>\n",
       "      <td>Lukas Graham</td>\n",
       "      <td>spotify track 2JqnpexlO9dmvjUMCaLCLJ</td>\n",
       "      <td>0.550</td>\n",
       "      <td>0.415</td>\n",
       "      <td>9</td>\n",
       "      <td>-6.557</td>\n",
       "      <td>0</td>\n",
       "      <td>0.0520</td>\n",
       "      <td>0.16100</td>\n",
       "      <td>0.000000</td>\n",
       "      <td>0.1080</td>\n",
       "      <td>0.2740</td>\n",
       "      <td>172.065</td>\n",
       "      <td>205463</td>\n",
       "      <td>4</td>\n",
       "      <td>44.89147</td>\n",
       "      <td>9</td>\n",
       "      <td>1</td>\n",
       "    </tr>\n",
       "    <tr>\n",
       "      <th>3</th>\n",
       "      <td>Music To My Ears (feat. Tory Lanez)</td>\n",
       "      <td>Keys N Krates</td>\n",
       "      <td>spotify track 0cjfLhk8WJ3etPTCseKXtk</td>\n",
       "      <td>0.502</td>\n",
       "      <td>0.648</td>\n",
       "      <td>0</td>\n",
       "      <td>-5.698</td>\n",
       "      <td>0</td>\n",
       "      <td>0.0527</td>\n",
       "      <td>0.00513</td>\n",
       "      <td>0.000000</td>\n",
       "      <td>0.2040</td>\n",
       "      <td>0.2910</td>\n",
       "      <td>91.837</td>\n",
       "      <td>193043</td>\n",
       "      <td>4</td>\n",
       "      <td>29.52521</td>\n",
       "      <td>7</td>\n",
       "      <td>0</td>\n",
       "    </tr>\n",
       "    <tr>\n",
       "      <th>4</th>\n",
       "      <td>Juju On That Beat (TZ Anthem)</td>\n",
       "      <td>Zay Hilfigerrr &amp; Zayion McCall</td>\n",
       "      <td>spotify track 1lItf5ZXJc1by9SbPeljFd</td>\n",
       "      <td>0.807</td>\n",
       "      <td>0.887</td>\n",
       "      <td>1</td>\n",
       "      <td>-3.892</td>\n",
       "      <td>1</td>\n",
       "      <td>0.2750</td>\n",
       "      <td>0.00381</td>\n",
       "      <td>0.000000</td>\n",
       "      <td>0.3910</td>\n",
       "      <td>0.7800</td>\n",
       "      <td>160.517</td>\n",
       "      <td>144244</td>\n",
       "      <td>4</td>\n",
       "      <td>24.99199</td>\n",
       "      <td>8</td>\n",
       "      <td>1</td>\n",
       "    </tr>\n",
       "    <tr>\n",
       "      <th>...</th>\n",
       "      <td>...</td>\n",
       "      <td>...</td>\n",
       "      <td>...</td>\n",
       "      <td>...</td>\n",
       "      <td>...</td>\n",
       "      <td>...</td>\n",
       "      <td>...</td>\n",
       "      <td>...</td>\n",
       "      <td>...</td>\n",
       "      <td>...</td>\n",
       "      <td>...</td>\n",
       "      <td>...</td>\n",
       "      <td>...</td>\n",
       "      <td>...</td>\n",
       "      <td>...</td>\n",
       "      <td>...</td>\n",
       "      <td>...</td>\n",
       "      <td>...</td>\n",
       "      <td>...</td>\n",
       "    </tr>\n",
       "    <tr>\n",
       "      <th>6393</th>\n",
       "      <td>Lotus Flowers</td>\n",
       "      <td>Yolta</td>\n",
       "      <td>spotify track 4t1TljQWJ6ZuoSY67zVvBI</td>\n",
       "      <td>0.172</td>\n",
       "      <td>0.358</td>\n",
       "      <td>9</td>\n",
       "      <td>-14.430</td>\n",
       "      <td>1</td>\n",
       "      <td>0.0342</td>\n",
       "      <td>0.88600</td>\n",
       "      <td>0.966000</td>\n",
       "      <td>0.3140</td>\n",
       "      <td>0.0361</td>\n",
       "      <td>72.272</td>\n",
       "      <td>150857</td>\n",
       "      <td>4</td>\n",
       "      <td>24.30824</td>\n",
       "      <td>7</td>\n",
       "      <td>0</td>\n",
       "    </tr>\n",
       "    <tr>\n",
       "      <th>6394</th>\n",
       "      <td>Calling My Spirit</td>\n",
       "      <td>Kodak Black</td>\n",
       "      <td>spotify track 2MShy1GSSgbmGUxADNIao5</td>\n",
       "      <td>0.910</td>\n",
       "      <td>0.366</td>\n",
       "      <td>1</td>\n",
       "      <td>-9.954</td>\n",
       "      <td>1</td>\n",
       "      <td>0.0941</td>\n",
       "      <td>0.09960</td>\n",
       "      <td>0.000000</td>\n",
       "      <td>0.2610</td>\n",
       "      <td>0.7400</td>\n",
       "      <td>119.985</td>\n",
       "      <td>152000</td>\n",
       "      <td>4</td>\n",
       "      <td>32.53856</td>\n",
       "      <td>8</td>\n",
       "      <td>1</td>\n",
       "    </tr>\n",
       "    <tr>\n",
       "      <th>6395</th>\n",
       "      <td>Teenage Dream</td>\n",
       "      <td>Katy Perry</td>\n",
       "      <td>spotify track 55qBw1900pZKfXJ6Q9A2L</td>\n",
       "      <td>0.719</td>\n",
       "      <td>0.804</td>\n",
       "      <td>10</td>\n",
       "      <td>-4.581</td>\n",
       "      <td>1</td>\n",
       "      <td>0.0355</td>\n",
       "      <td>0.01320</td>\n",
       "      <td>0.000003</td>\n",
       "      <td>0.1390</td>\n",
       "      <td>0.6050</td>\n",
       "      <td>119.999</td>\n",
       "      <td>227760</td>\n",
       "      <td>4</td>\n",
       "      <td>20.73371</td>\n",
       "      <td>7</td>\n",
       "      <td>1</td>\n",
       "    </tr>\n",
       "    <tr>\n",
       "      <th>6396</th>\n",
       "      <td>Stormy Weather</td>\n",
       "      <td>Oscar Peterson</td>\n",
       "      <td>spotify track 4o9npmYHrOF1rUxxTVH8h4</td>\n",
       "      <td>0.600</td>\n",
       "      <td>0.177</td>\n",
       "      <td>7</td>\n",
       "      <td>-16.070</td>\n",
       "      <td>1</td>\n",
       "      <td>0.0561</td>\n",
       "      <td>0.98900</td>\n",
       "      <td>0.868000</td>\n",
       "      <td>0.1490</td>\n",
       "      <td>0.5600</td>\n",
       "      <td>120.030</td>\n",
       "      <td>213387</td>\n",
       "      <td>4</td>\n",
       "      <td>21.65301</td>\n",
       "      <td>14</td>\n",
       "      <td>0</td>\n",
       "    </tr>\n",
       "    <tr>\n",
       "      <th>6397</th>\n",
       "      <td>Dust</td>\n",
       "      <td>Hans Zimmer</td>\n",
       "      <td>spotify track 2khIaVUkbMmDHB596lyMG3</td>\n",
       "      <td>0.121</td>\n",
       "      <td>0.123</td>\n",
       "      <td>4</td>\n",
       "      <td>-23.025</td>\n",
       "      <td>0</td>\n",
       "      <td>0.0443</td>\n",
       "      <td>0.96400</td>\n",
       "      <td>0.696000</td>\n",
       "      <td>0.1030</td>\n",
       "      <td>0.0297</td>\n",
       "      <td>95.182</td>\n",
       "      <td>341396</td>\n",
       "      <td>4</td>\n",
       "      <td>71.05343</td>\n",
       "      <td>15</td>\n",
       "      <td>0</td>\n",
       "    </tr>\n",
       "  </tbody>\n",
       "</table>\n",
       "<p>6398 rows × 19 columns</p>\n",
       "</div>"
      ],
      "text/plain": [
       "                                    track                          artist                                   uri  danceability  energy  key  loudness  mode  speechiness  acousticness  instrumentalness  liveness  valence    tempo  duration_ms  time_signature  chorus_hit  sections  target\n",
       "0     Wild Things                          Alessia Cara                    spotify track 2ZyuwVvV6Z3XJaXIFbspeE  0.741         0.626   1   -4.826     0     0.0886       0.02000       0.000000          0.0828    0.7060   108.029  188493       4               41.18681    10        1     \n",
       "1     Surfboard                            Esquivel!                       spotify track 61APOtq25SCMuK0V5w2Kgp  0.447         0.247   5   -14.661    0     0.0346       0.87100       0.814000          0.0946    0.2500   155.489  176880       3               33.18083    9         0     \n",
       "2     Love Someone                         Lukas Graham                    spotify track 2JqnpexlO9dmvjUMCaLCLJ  0.550         0.415   9   -6.557     0     0.0520       0.16100       0.000000          0.1080    0.2740   172.065  205463       4               44.89147    9         1     \n",
       "3     Music To My Ears (feat. Tory Lanez)  Keys N Krates                   spotify track 0cjfLhk8WJ3etPTCseKXtk  0.502         0.648   0   -5.698     0     0.0527       0.00513       0.000000          0.2040    0.2910   91.837   193043       4               29.52521    7         0     \n",
       "4     Juju On That Beat (TZ Anthem)        Zay Hilfigerrr & Zayion McCall  spotify track 1lItf5ZXJc1by9SbPeljFd  0.807         0.887   1   -3.892     1     0.2750       0.00381       0.000000          0.3910    0.7800   160.517  144244       4               24.99199    8         1     \n",
       "...                             ...                                   ...                                   ...    ...           ...  ..      ...    ..        ...           ...            ...             ...       ...       ...     ...      ..                    ...   ..        ..     \n",
       "6393  Lotus Flowers                        Yolta                           spotify track 4t1TljQWJ6ZuoSY67zVvBI  0.172         0.358   9   -14.430    1     0.0342       0.88600       0.966000          0.3140    0.0361   72.272   150857       4               24.30824    7         0     \n",
       "6394  Calling My Spirit                    Kodak Black                     spotify track 2MShy1GSSgbmGUxADNIao5  0.910         0.366   1   -9.954     1     0.0941       0.09960       0.000000          0.2610    0.7400   119.985  152000       4               32.53856    8         1     \n",
       "6395  Teenage Dream                        Katy Perry                      spotify track 55qBw1900pZKfXJ6Q9A2L   0.719         0.804   10  -4.581     1     0.0355       0.01320       0.000003          0.1390    0.6050   119.999  227760       4               20.73371    7         1     \n",
       "6396  Stormy Weather                       Oscar Peterson                  spotify track 4o9npmYHrOF1rUxxTVH8h4  0.600         0.177   7   -16.070    1     0.0561       0.98900       0.868000          0.1490    0.5600   120.030  213387       4               21.65301    14        0     \n",
       "6397  Dust                                 Hans Zimmer                     spotify track 2khIaVUkbMmDHB596lyMG3  0.121         0.123   4   -23.025    0     0.0443       0.96400       0.696000          0.1030    0.0297   95.182   341396       4               71.05343    15        0     \n",
       "\n",
       "[6398 rows x 19 columns]"
      ]
     },
     "execution_count": 227,
     "metadata": {},
     "output_type": "execute_result"
    }
   ],
   "source": [
    "#ValueError: could not convert string to float: 'spotify:track:22oHNR2kqQKjyKpLbB6IUp'\n",
    "#the error must be because of the : in uri column, so it has to be removed \n",
    "df_tmp['uri'] = df_tmp['uri'].map(lambda x: x.strip(':'))\n",
    "df_tmp"
   ]
  },
  {
   "cell_type": "code",
   "execution_count": 195,
   "metadata": {},
   "outputs": [
    {
     "data": {
      "text/plain": [
       "0       spotify:track:2ZyuwVvV6Z3XJaXIFbspeE\n",
       "1       spotify:track:61APOtq25SCMuK0V5w2Kgp\n",
       "2       spotify:track:2JqnpexlO9dmvjUMCaLCLJ\n",
       "3       spotify:track:0cjfLhk8WJ3etPTCseKXtk\n",
       "4       spotify:track:1lItf5ZXJc1by9SbPeljFd\n",
       "                        ...                 \n",
       "6393    spotify:track:4t1TljQWJ6ZuoSY67zVvBI\n",
       "6394    spotify:track:2MShy1GSSgbmGUxADNIao5\n",
       "6395    spotify:track:55qBw1900pZKfXJ6Q9A2L \n",
       "6396    spotify:track:4o9npmYHrOF1rUxxTVH8h4\n",
       "6397    spotify:track:2khIaVUkbMmDHB596lyMG3\n",
       "Name: uri, Length: 6398, dtype: category\n",
       "Categories (6378, object): [spotify:track:000JBwAOq5d9lNNSnovPYg < spotify:track:000xQL6tZNLJzIrtIgxqSl < spotify:track:002ZKDDKt6oObJzIQq5Mrv < spotify:track:003I0c4UcwPtqOp3rW7Dv7 ... spotify:track:7zbFh74zImpQho3btxuANN < spotify:track:7zmJyZL3DfYBBYbY8Rve6W < spotify:track:7zsXy7vlHdItvUSH8EwQss < spotify:track:7zy6jG8RIUI8qNYYVuLGbY]"
      ]
     },
     "execution_count": 195,
     "metadata": {},
     "output_type": "execute_result"
    }
   ],
   "source": [
    "df_tmp.uri"
   ]
  },
  {
   "cell_type": "code",
   "execution_count": 271,
   "metadata": {},
   "outputs": [],
   "source": [
    "#To be safe, Im goint to use a complete list of special characters and remove them using a loop:\n",
    "# we replaced the special characters with space.\n",
    "spec_chars = [\"!\",'\"',\"#\",\"%\",\"&\",\"'\",\"(\",\")\",\n",
    "              \"*\",\"+\",\",\",\"-\",\".\",\"/\",\":\",\";\",\"<\",\n",
    "              \"=\",\">\",\"?\",\"@\",\"[\",\"\\\\\",\"]\",\"^\",\"_\",\n",
    "              \"`\",\"{\",\"|\",\"}\",\"~\",\"–\"]\n",
    "for char in spec_chars:\n",
    "    df_tmp['uri'] = df_tmp['uri'].str.replace(char, ' ')"
   ]
  },
  {
   "cell_type": "code",
   "execution_count": 273,
   "metadata": {},
   "outputs": [
    {
     "data": {
      "text/plain": [
       "0       spotifytrack2ZyuwVvV6Z3XJaXIFbspeE\n",
       "1       spotifytrack61APOtq25SCMuK0V5w2Kgp\n",
       "2       spotifytrack2JqnpexlO9dmvjUMCaLCLJ\n",
       "3       spotifytrack0cjfLhk8WJ3etPTCseKXtk\n",
       "4       spotifytrack1lItf5ZXJc1by9SbPeljFd\n",
       "                       ...                \n",
       "6393    spotifytrack4t1TljQWJ6ZuoSY67zVvBI\n",
       "6394    spotifytrack2MShy1GSSgbmGUxADNIao5\n",
       "6395    spotifytrack55qBw1900pZKfXJ6Q9A2L \n",
       "6396    spotifytrack4o9npmYHrOF1rUxxTVH8h4\n",
       "6397    spotifytrack2khIaVUkbMmDHB596lyMG3\n",
       "Name: uri, Length: 6398, dtype: object"
      ]
     },
     "execution_count": 273,
     "metadata": {},
     "output_type": "execute_result"
    }
   ],
   "source": [
    "df_tmp['uri'] "
   ]
  },
  {
   "cell_type": "code",
   "execution_count": null,
   "metadata": {},
   "outputs": [],
   "source": [
    "Train and test\n",
    "Now we've got our data split into training and test sets, it's time to build a machine learning model.\n",
    "We'll train it (find the patterns) on the training set.\n",
    "And we'll test it (use the patterns) on the test set.\n",
    "We're going to try 3 different machine learning models:\n",
    "Logistic Regression\n",
    "K-Nearest Neighbours Classifier\n",
    "Random Forest Classifier"
   ]
  },
  {
   "cell_type": "markdown",
   "metadata": {},
   "source": [
    "## 5. Modeling"
   ]
  },
  {
   "cell_type": "markdown",
   "metadata": {},
   "source": [
    "# keeping up...\n",
    "\n",
    "## Train and test\n",
    "Now we've got our data split into training and test sets, it's time to build a machine learning model.\n",
    "We'll train it (find the patterns) on the training set.\n",
    "And we'll test it (use the patterns) on the test set.\n",
    "\n",
    "We're going to try 3 different machine learning models:\n",
    "1. Logistic Regression\n",
    "2. K-Nearest Neighbours Classifier\n",
    "3. Random Forest Classifier"
   ]
  },
  {
   "cell_type": "code",
   "execution_count": 299,
   "metadata": {},
   "outputs": [],
   "source": [
    "# Split data into X and y\n",
    "X = df_tmp.drop(\"target\", axis=1)\n",
    "\n",
    "y = df_tmp[\"target\"]"
   ]
  },
  {
   "cell_type": "code",
   "execution_count": 300,
   "metadata": {},
   "outputs": [],
   "source": [
    "\n",
    "# Split data into train and test sets\n",
    "np.random.seed(33)\n",
    "\n",
    "# Split into train & test set\n",
    "X_train, X_test, y_train, y_test = train_test_split(X,\n",
    "                                                    y,\n",
    "                                                    test_size=0.2)"
   ]
  },
  {
   "cell_type": "code",
   "execution_count": 301,
   "metadata": {},
   "outputs": [
    {
     "data": {
      "text/plain": [
       "(2497    0\n",
       " 3957    0\n",
       " 4179    0\n",
       " 6247    0\n",
       " 316     0\n",
       "        ..\n",
       " 3273    0\n",
       " 2706    1\n",
       " 578     1\n",
       " 5848    1\n",
       " 2439    0\n",
       " Name: target, Length: 5118, dtype: int64,\n",
       " 5118)"
      ]
     },
     "execution_count": 301,
     "metadata": {},
     "output_type": "execute_result"
    }
   ],
   "source": [
    "y_train, len(y_train)"
   ]
  },
  {
   "cell_type": "code",
   "execution_count": null,
   "metadata": {},
   "outputs": [],
   "source": []
  },
  {
   "cell_type": "code",
   "execution_count": 302,
   "metadata": {},
   "outputs": [],
   "source": [
    "# Put models in a dictionary\n",
    "models = {\"Logistic Regression\": LogisticRegression(),\n",
    "          \"KNN\": KNeighborsClassifier(),\n",
    "          \"Random Forest\": RandomForestClassifier()}\n",
    "\n",
    "# Create a function to fit and score models\n",
    "def fit_and_score(models, X_train, X_test, y_train, y_test):\n",
    "    \"\"\"\n",
    "    Fits and evaluates given machine learning models.\n",
    "    models : a dict of different Scikit-Learn machine learning models\n",
    "    X_train : training data (no labels)\n",
    "    X_test : testing data (no labels)\n",
    "    y_train : training labels\n",
    "    y_test : test labels\n",
    "    \"\"\"\n",
    "    # Set random seed\n",
    "    np.random.seed(33)\n",
    "    # Make a dictionary to keep model scores\n",
    "    model_scores = {}\n",
    "    # Loop through models\n",
    "    for name, model in models.items():\n",
    "        # Fit the model to the data\n",
    "        model.fit(X_train, y_train)\n",
    "        # Evaluate the model and append its score to model_scores\n",
    "        model_scores[name] = model.score(X_test, y_test)\n",
    "    return model_scores\n",
    "\n"
   ]
  },
  {
   "cell_type": "code",
   "execution_count": 303,
   "metadata": {
    "scrolled": true
   },
   "outputs": [
    {
     "data": {
      "text/plain": [
       "{'Logistic Regression': 0.56796875,\n",
       " 'KNN': 0.63046875,\n",
       " 'Random Forest': 0.83671875}"
      ]
     },
     "execution_count": 303,
     "metadata": {},
     "output_type": "execute_result"
    }
   ],
   "source": [
    "model_scores = fit_and_score(models=models,\n",
    "                             X_train=X_train,\n",
    "                             X_test=X_test,\n",
    "                             y_train=y_train,\n",
    "                             y_test=y_test)\n",
    "\n",
    "model_scores"
   ]
  },
  {
   "cell_type": "code",
   "execution_count": 292,
   "metadata": {},
   "outputs": [
    {
     "name": "stdout",
     "output_type": "stream",
     "text": [
      "<class 'pandas.core.frame.DataFrame'>\n",
      "RangeIndex: 6398 entries, 0 to 6397\n",
      "Data columns (total 19 columns):\n",
      " #   Column            Dtype   \n",
      "---  ------            -----   \n",
      " 0   track             category\n",
      " 1   artist            category\n",
      " 2   uri               category\n",
      " 3   danceability      float64 \n",
      " 4   energy            float64 \n",
      " 5   key               int64   \n",
      " 6   loudness          float64 \n",
      " 7   mode              int64   \n",
      " 8   speechiness       float64 \n",
      " 9   acousticness      float64 \n",
      " 10  instrumentalness  float64 \n",
      " 11  liveness          float64 \n",
      " 12  valence           float64 \n",
      " 13  tempo             float64 \n",
      " 14  duration_ms       int64   \n",
      " 15  time_signature    int64   \n",
      " 16  chorus_hit        float64 \n",
      " 17  sections          int64   \n",
      " 18  target            int64   \n",
      "dtypes: category(3), float64(10), int64(6)\n",
      "memory usage: 1.6 MB\n"
     ]
    }
   ],
   "source": [
    "df_tmp.info(\"uri\")"
   ]
  },
  {
   "cell_type": "code",
   "execution_count": 293,
   "metadata": {},
   "outputs": [
    {
     "name": "stdout",
     "output_type": "stream",
     "text": [
      "track\n",
      "artist\n",
      "uri\n"
     ]
    }
   ],
   "source": [
    "# got the error again could not convert string to float: \n",
    "#so Ill try with turning categorical variables into numbers\n",
    "\n",
    "# Check for columns which aren't numeric\n",
    "for label, content in df_tmp.items():\n",
    "    if not pd.api.types.is_numeric_dtype(content):\n",
    "        print(label)"
   ]
  },
  {
   "cell_type": "code",
   "execution_count": 294,
   "metadata": {},
   "outputs": [],
   "source": [
    "# Turn categorical variables into numbers and fill missing\n",
    "for label, content in df_tmp.items():\n",
    "    if not pd.api.types.is_numeric_dtype(content):\n",
    "        # Add binary column to indicate whether sample had missing value\n",
    "        df_tmp[label+\"_is_missing\"] = pd.isnull(content)\n",
    "        # Turn categories into numbers and add +1\n",
    "        df_tmp[label] = pd.Categorical(content).codes+1"
   ]
  },
  {
   "cell_type": "code",
   "execution_count": 297,
   "metadata": {},
   "outputs": [
    {
     "data": {
      "text/plain": [
       "array([2121, 4916, 1930, ..., 4158, 3963, 2274], dtype=int16)"
      ]
     },
     "execution_count": 297,
     "metadata": {},
     "output_type": "execute_result"
    }
   ],
   "source": [
    "pd.Categorical(df_tmp[\"uri\"]).codes+1"
   ]
  },
  {
   "cell_type": "code",
   "execution_count": 298,
   "metadata": {},
   "outputs": [
    {
     "name": "stdout",
     "output_type": "stream",
     "text": [
      "<class 'pandas.core.frame.DataFrame'>\n",
      "RangeIndex: 6398 entries, 0 to 6397\n",
      "Data columns (total 22 columns):\n",
      " #   Column             Dtype  \n",
      "---  ------             -----  \n",
      " 0   track              int16  \n",
      " 1   artist             int16  \n",
      " 2   uri                int16  \n",
      " 3   danceability       float64\n",
      " 4   energy             float64\n",
      " 5   key                int64  \n",
      " 6   loudness           float64\n",
      " 7   mode               int64  \n",
      " 8   speechiness        float64\n",
      " 9   acousticness       float64\n",
      " 10  instrumentalness   float64\n",
      " 11  liveness           float64\n",
      " 12  valence            float64\n",
      " 13  tempo              float64\n",
      " 14  duration_ms        int64  \n",
      " 15  time_signature     int64  \n",
      " 16  chorus_hit         float64\n",
      " 17  sections           int64  \n",
      " 18  target             int64  \n",
      " 19  track_is_missing   bool   \n",
      " 20  artist_is_missing  bool   \n",
      " 21  uri_is_missing     bool   \n",
      "dtypes: bool(3), float64(10), int16(3), int64(6)\n",
      "memory usage: 856.1 KB\n"
     ]
    }
   ],
   "source": [
    "df_tmp.info(\"uri\")"
   ]
  },
  {
   "cell_type": "markdown",
   "metadata": {},
   "source": [
    "# after turn all the categorical into numbers:\n",
    "{'Logistic Regression': 0.56796875,\n",
    " 'KNN': 0.63046875,\n",
    " 'Random Forest': 0.83671875}"
   ]
  },
  {
   "cell_type": "code",
   "execution_count": 306,
   "metadata": {},
   "outputs": [
    {
     "data": {
      "image/png": "[encoded data removed]",
      "text/plain": [
       "<Figure size 432x288 with 1 Axes>"
      ]
     },
     "metadata": {
      "needs_background": "light"
     },
     "output_type": "display_data"
    }
   ],
   "source": [
    "# Compare models:\n",
    "model_compare = pd.DataFrame(model_scores, index=[\"accuracy\"])\n",
    "model_compare.T.plot.bar();"
   ]
  },
  {
   "cell_type": "markdown",
   "metadata": {},
   "source": [
    "We've explored our dataset a little as well as enriched it with some datetime attributes, now let's try to model.\n",
    "\n",
    "Why model so early?\n",
    "\n",
    "We know the evaluation metric we're heading towards. We could spend more time doing exploratory data analysis (EDA), finding more out about the data ourselves but what we'll do instead is use a machine learning model to help us do EDA.\n",
    "\n",
    "Remember, one of the biggest goals of starting any new machine learning project is reducing the time between experiments.\n",
    "Now we've got a baseline model... and we know a model's first predictions aren't always what we should based our next steps off. What should we do?\n",
    "\n",
    "Let's look at the following:(1 and 2 use in all models, the rest are specific to Classifications models)\n",
    "\n",
    "1. Hypyterparameter tuning\n",
    "2. Feature importance\n",
    "3. Confusion matrix\n",
    "4. Cross-validation\n",
    "5. Precision\n",
    "6. Recall\n",
    "7. F1 score\n",
    "8. Classification report\n",
    "9. ROC curve\n",
    "10. AUC"
   ]
  },
  {
   "cell_type": "markdown",
   "metadata": {},
   "source": [
    "1. Hyperparameter tuning (by hand)\n",
    "\n"
   ]
  },
  {
   "cell_type": "code",
   "execution_count": 307,
   "metadata": {},
   "outputs": [],
   "source": [
    "# Let's tune KNN\n",
    "\n",
    "train_scores = []\n",
    "test_scores = []\n",
    "\n",
    "# Create a list of differnt values for n_neighbors\n",
    "neighbors = range(1, 21)\n",
    "\n",
    "# Setup KNN instance\n",
    "knn = KNeighborsClassifier()\n",
    "\n",
    "# Loop through different n_neighbors\n",
    "for i in neighbors:\n",
    "    knn.set_params(n_neighbors=i)\n",
    "    \n",
    "    # Fit the algorithm\n",
    "    knn.fit(X_train, y_train)\n",
    "    \n",
    "    # Update the training scores list\n",
    "    train_scores.append(knn.score(X_train, y_train))\n",
    "    \n",
    "    # Update the test scores list\n",
    "    test_scores.append(knn.score(X_test, y_test))"
   ]
  },
  {
   "cell_type": "code",
   "execution_count": 308,
   "metadata": {},
   "outputs": [
    {
     "data": {
      "text/plain": [
       "[1.0,\n",
       " 0.787221570926143,\n",
       " 0.7881985150449394,\n",
       " 0.7346619773348965,\n",
       " 0.7330988667448222,\n",
       " 0.714146150840172,\n",
       " 0.7153184837827277,\n",
       " 0.7049628761234857,\n",
       " 0.7094568190699492,\n",
       " 0.694021101992966,\n",
       " 0.6910902696365768,\n",
       " 0.6881594372801876,\n",
       " 0.6832747166862055,\n",
       " 0.6811254396248535,\n",
       " 0.6811254396248535,\n",
       " 0.6733098866744822,\n",
       " 0.6770222743259086,\n",
       " 0.6742868307932787,\n",
       " 0.6756545525595936,\n",
       " 0.6742868307932787]"
      ]
     },
     "execution_count": 308,
     "metadata": {},
     "output_type": "execute_result"
    }
   ],
   "source": [
    "train_scores"
   ]
  },
  {
   "cell_type": "code",
   "execution_count": 309,
   "metadata": {},
   "outputs": [
    {
     "data": {
      "text/plain": [
       "[0.59375,\n",
       " 0.58359375,\n",
       " 0.6203125,\n",
       " 0.60390625,\n",
       " 0.63046875,\n",
       " 0.60546875,\n",
       " 0.62109375,\n",
       " 0.6171875,\n",
       " 0.6296875,\n",
       " 0.61796875,\n",
       " 0.63359375,\n",
       " 0.61484375,\n",
       " 0.6265625,\n",
       " 0.6265625,\n",
       " 0.6390625,\n",
       " 0.63359375,\n",
       " 0.640625,\n",
       " 0.640625,\n",
       " 0.6578125,\n",
       " 0.653125]"
      ]
     },
     "execution_count": 309,
     "metadata": {},
     "output_type": "execute_result"
    }
   ],
   "source": [
    "test_scores"
   ]
  },
  {
   "cell_type": "code",
   "execution_count": 310,
   "metadata": {},
   "outputs": [
    {
     "name": "stdout",
     "output_type": "stream",
     "text": [
      "Maximum KNN score on the test data: 65.78%\n"
     ]
    },
    {
     "data": {
      "image/png": "[encoded data removed]",
      "text/plain": [
       "<Figure size 432x288 with 1 Axes>"
      ]
     },
     "metadata": {
      "needs_background": "light"
     },
     "output_type": "display_data"
    }
   ],
   "source": [
    "plt.plot(neighbors, train_scores, label=\"Train score\")\n",
    "plt.plot(neighbors, test_scores, label=\"Test score\")\n",
    "plt.xticks(np.arange(1, 21, 1))\n",
    "plt.xlabel(\"Number of neighbors\")\n",
    "plt.ylabel(\"Model score\")\n",
    "plt.legend()\n",
    "\n",
    "print(f\"Maximum KNN score on the test data: {max(test_scores)*100:.2f}%\")"
   ]
  },
  {
   "cell_type": "markdown",
   "metadata": {},
   "source": [
    "n=19 (by default is 5) yields the best score on our test data set, that gives 65.78%\n",
    "\n",
    "65.78% is a little bit higher that the one I got at the first model 'KNN': 0.63046875,\n",
    "\n",
    "\n",
    "{'Logistic Regression': 0.56796875,\n",
    " 'KNN': 0.63046875,\n",
    " 'Random Forest': 0.83671875}\n",
    "\n",
    "even I tunned the KNN, the score didnt reach the score in Random Forest, so for now Im  going to discard KNN model...\n",
    "\n",
    "\n",
    "This is quite tedious, It was okay here using tuning by hand, because I had one parameter tuned (n kneighbors) but if you had more parameters writing these for loops is going to be very inefficient.\n",
    "\n",
    "So if I had to do that for every single machine learning model you might run into some problems.\n",
    "\n",
    "It was okay here because we had one parameter tuned but if you had more parameters writing these for\n",
    "loops is going to be very inefficient.\n",
    "\n",
    "So what we might do next see how we can tune logistic regression and random forest classifier using\n",
    "randomized search CV which stands for cross validation.\n",
    "\n",
    "So instead of us having to manually try choosing different hybrid parameters by hand randomize search\n",
    "\n",
    "CV which we've seen in the psychic loan section it's gonna try a number of different combinations of"
   ]
  },
  {
   "cell_type": "markdown",
   "metadata": {},
   "source": [
    "## Hyperparameter tuning with RandomizedSearchCV\n",
    "We're going to tune:\n",
    "\n",
    "LogisticRegression()\n",
    "RandomForestClassifier()\n",
    "... using RandomizedSearchCV\n",
    "\n",
    "{'Logistic Regression': 0.56796875, 'KNN': 0.63046875, 'Random Forest': 0.83671875}\n",
    "\n",
    "\n",
    "CV=cross validation:\n",
    "This can be k fold cross validation.\n",
    "So 5 is the default in get line in the latest version but you can really adjust this and what it's going\n",
    "to do is go on it create five different versions of training data and five different versions of the\n",
    "test data and then evaluate different parameters Rama because we're doing a hyper parameter search evaluate\n",
    "different hyper parameters on all of these different sets of all of these versions of the training and"
   ]
  },
  {
   "cell_type": "code",
   "execution_count": 318,
   "metadata": {},
   "outputs": [],
   "source": [
    "# Create a hyperparameter grid for LogisticRegression\n",
    "log_reg_grid = {\"C\": np.logspace(-4, 4, 20),\n",
    "                \"solver\": [\"liblinear\"]}\n",
    "\n",
    "# Create a hyperparameter grid for RandomForestClassifier\n",
    "rf_grid = {\"n_estimators\": np.arange(10, 1000, 50),\n",
    "           \"max_depth\": [None, 3, 5, 10],\n",
    "           \"min_samples_split\": np.arange(2, 20, 2),\n",
    "           \"min_samples_leaf\": np.arange(1, 20, 2)}"
   ]
  },
  {
   "cell_type": "markdown",
   "metadata": {},
   "source": [
    "Now we've got hyperparameter grids setup for each of our models, let's tune them using RandomizedSearchCV...\n",
    "\n"
   ]
  },
  {
   "cell_type": "code",
   "execution_count": 322,
   "metadata": {},
   "outputs": [
    {
     "name": "stdout",
     "output_type": "stream",
     "text": [
      "Fitting 5 folds for each of 20 candidates, totalling 100 fits\n"
     ]
    },
    {
     "name": "stderr",
     "output_type": "stream",
     "text": [
      "[Parallel(n_jobs=1)]: Using backend SequentialBackend with 1 concurrent workers.\n",
      "[Parallel(n_jobs=1)]: Done 100 out of 100 | elapsed:    9.1s finished\n"
     ]
    },
    {
     "data": {
      "text/plain": [
       "RandomizedSearchCV(cv=5, error_score=nan,\n",
       "                   estimator=LogisticRegression(C=1.0, class_weight=None,\n",
       "                                                dual=False, fit_intercept=True,\n",
       "                                                intercept_scaling=1,\n",
       "                                                l1_ratio=None, max_iter=100,\n",
       "                                                multi_class='auto', n_jobs=None,\n",
       "                                                penalty='l2', random_state=None,\n",
       "                                                solver='lbfgs', tol=0.0001,\n",
       "                                                verbose=0, warm_start=False),\n",
       "                   iid='deprecated', n_iter=20, n_jobs=None,\n",
       "                   param_distributions={'C':...\n",
       "       4.83293024e-03, 1.27427499e-02, 3.35981829e-02, 8.85866790e-02,\n",
       "       2.33572147e-01, 6.15848211e-01, 1.62377674e+00, 4.28133240e+00,\n",
       "       1.12883789e+01, 2.97635144e+01, 7.84759970e+01, 2.06913808e+02,\n",
       "       5.45559478e+02, 1.43844989e+03, 3.79269019e+03, 1.00000000e+04]),\n",
       "                                        'solver': ['liblinear']},\n",
       "                   pre_dispatch='2*n_jobs', random_state=None, refit=True,\n",
       "                   return_train_score=False, scoring=None, verbose=True)"
      ]
     },
     "execution_count": 322,
     "metadata": {},
     "output_type": "execute_result"
    }
   ],
   "source": [
    "# Tune LogisticRegression\n",
    "\n",
    "np.random.seed(33)\n",
    "\n",
    "# Setup random hyperparameter search for LogisticRegression\n",
    "rs_log_reg = RandomizedSearchCV(LogisticRegression(),\n",
    "                                param_distributions=log_reg_grid,\n",
    "                                cv=5,\n",
    "                                n_iter=20,\n",
    "                                verbose=True)\n",
    "\n",
    "# Fit random hyperparameter search model for LogisticRegression\n",
    "rs_log_reg.fit(X_train, y_train)"
   ]
  },
  {
   "cell_type": "code",
   "execution_count": 321,
   "metadata": {},
   "outputs": [
    {
     "ename": "SyntaxError",
     "evalue": "invalid syntax (<ipython-input-321-fafa3251674b>, line 12)",
     "output_type": "error",
     "traceback": [
      "\u001b[0;36m  File \u001b[0;32m\"<ipython-input-321-fafa3251674b>\"\u001b[0;36m, line \u001b[0;32m12\u001b[0m\n\u001b[0;31m    4.83293024e-03, 1.27427499e-02, 3.35981829e-02, 8.85866790e-02,\u001b[0m\n\u001b[0m    ^\u001b[0m\n\u001b[0;31mSyntaxError\u001b[0m\u001b[0;31m:\u001b[0m invalid syntax\n"
     ]
    }
   ],
   "source": [
    "\n",
    "RandomizedSearchCV(cv=5, error_score=nan,\n",
    "                   estimator=LogisticRegression(C=1.0, class_weight=None,\n",
    "                                                dual=False, fit_intercept=True,\n",
    "                                                intercept_scaling=1,\n",
    "                                                l1_ratio=None, max_iter=100,\n",
    "                                                multi_class='auto', n_jobs=None,\n",
    "                                                penalty='l2', random_state=None,\n",
    "                                                solver='lbfgs', tol=0.0001,\n",
    "                                                verbose=0, warm_start=False),\n",
    "                   iid='deprecated', n_iter=20, n_jobs=None,\n",
    "                   param_distributions={'C':...\n",
    "       4.83293024e-03, 1.27427499e-02, 3.35981829e-02, 8.85866790e-02,\n",
    "       2.33572147e-01, 6.15848211e-01, 1.62377674e+00, 4.28133240e+00,\n",
    "       1.12883789e+01, 2.97635144e+01, 7.84759970e+01, 2.06913808e+02,\n",
    "       5.45559478e+02, 1.43844989e+03, 3.79269019e+03, 1.00000000e+04]),\n",
    "                                        'solver': ['liblinear']},\n",
    "                   pre_dispatch='2*n_jobs', random_state=None, refit=True,\n",
    "                   return_train_score=False, scoring=None, verbose=True)"
   ]
  },
  {
   "cell_type": "code",
   "execution_count": 324,
   "metadata": {},
   "outputs": [
    {
     "data": {
      "text/plain": [
       "{'solver': 'liblinear', 'C': 545.5594781168514}"
      ]
     },
     "execution_count": 324,
     "metadata": {},
     "output_type": "execute_result"
    }
   ],
   "source": [
    "rs_log_reg.best_params_"
   ]
  },
  {
   "cell_type": "code",
   "execution_count": 325,
   "metadata": {},
   "outputs": [
    {
     "data": {
      "text/plain": [
       "0.734375"
      ]
     },
     "execution_count": 325,
     "metadata": {},
     "output_type": "execute_result"
    }
   ],
   "source": [
    "rs_log_reg.score(X_test, y_test)\n"
   ]
  },
  {
   "cell_type": "markdown",
   "metadata": {},
   "source": [
    "\n",
    "0.734375 vs 0.56796875\n",
    "\n",
    "{'Logistic Regression': 0.56796875,\n",
    " 'KNN': 0.63046875,\n",
    " 'Random Forest': 0.83671875}\n",
    "\n",
    "\n",
    "\n",
    "Now we've tuned LogisticRegression(), let's do the same for RandomForestClassifier()...\n",
    "\n"
   ]
  },
  {
   "cell_type": "code",
   "execution_count": 326,
   "metadata": {},
   "outputs": [
    {
     "name": "stdout",
     "output_type": "stream",
     "text": [
      "Fitting 5 folds for each of 20 candidates, totalling 100 fits\n"
     ]
    },
    {
     "name": "stderr",
     "output_type": "stream",
     "text": [
      "[Parallel(n_jobs=1)]: Using backend SequentialBackend with 1 concurrent workers.\n",
      "[Parallel(n_jobs=1)]: Done 100 out of 100 | elapsed:  6.7min finished\n"
     ]
    },
    {
     "data": {
      "text/plain": [
       "RandomizedSearchCV(cv=5, error_score=nan,\n",
       "                   estimator=RandomForestClassifier(bootstrap=True,\n",
       "                                                    ccp_alpha=0.0,\n",
       "                                                    class_weight=None,\n",
       "                                                    criterion='gini',\n",
       "                                                    max_depth=None,\n",
       "                                                    max_features='auto',\n",
       "                                                    max_leaf_nodes=None,\n",
       "                                                    max_samples=None,\n",
       "                                                    min_impurity_decrease=0.0,\n",
       "                                                    min_impurity_split=None,\n",
       "                                                    min_samples_leaf=1,\n",
       "                                                    min_samples_split=2,\n",
       "                                                    min_weight_fraction_leaf=0.0,\n",
       "                                                    n_estimators=100,\n",
       "                                                    n_jobs...\n",
       "                   param_distributions={'max_depth': [None, 3, 5, 10],\n",
       "                                        'min_samples_leaf': array([ 1,  3,  5,  7,  9, 11, 13, 15, 17, 19]),\n",
       "                                        'min_samples_split': array([ 2,  4,  6,  8, 10, 12, 14, 16, 18]),\n",
       "                                        'n_estimators': array([ 10,  60, 110, 160, 210, 260, 310, 360, 410, 460, 510, 560, 610,\n",
       "       660, 710, 760, 810, 860, 910, 960])},\n",
       "                   pre_dispatch='2*n_jobs', random_state=None, refit=True,\n",
       "                   return_train_score=False, scoring=None, verbose=True)"
      ]
     },
     "execution_count": 326,
     "metadata": {},
     "output_type": "execute_result"
    }
   ],
   "source": [
    "# Setup random seed\n",
    "np.random.seed(33)\n",
    "\n",
    "# Setup random hyperparameter search for RandomForestClassifier\n",
    "rs_rf = RandomizedSearchCV(RandomForestClassifier(), \n",
    "                           param_distributions=rf_grid,\n",
    "                           cv=5,\n",
    "                           n_iter=20,\n",
    "                           verbose=True)\n",
    "\n",
    "# Fit random hyperparameter search model for RandomForestClassifier()\n",
    "rs_rf.fit(X_train, y_train)"
   ]
  },
  {
   "cell_type": "code",
   "execution_count": 327,
   "metadata": {},
   "outputs": [
    {
     "data": {
      "text/plain": [
       "{'n_estimators': 860,\n",
       " 'min_samples_split': 6,\n",
       " 'min_samples_leaf': 1,\n",
       " 'max_depth': None}"
      ]
     },
     "execution_count": 327,
     "metadata": {},
     "output_type": "execute_result"
    }
   ],
   "source": [
    "# Find the best hyperparameters\n",
    "rs_rf.best_params_"
   ]
  },
  {
   "cell_type": "code",
   "execution_count": 328,
   "metadata": {},
   "outputs": [
    {
     "data": {
      "text/plain": [
       "0.8328125"
      ]
     },
     "execution_count": 328,
     "metadata": {},
     "output_type": "execute_result"
    }
   ],
   "source": [
    "# Evaluate the randomized search RandomForestClassifier model\n",
    "rs_rf.score(X_test, y_test)"
   ]
  },
  {
   "cell_type": "markdown",
   "metadata": {},
   "source": [
    "## Hyperparamter Tuning with GridSearchCV\n",
    "Since our RandomForestClassifier model provides the best scores so far, \n",
    "we'll try and improve them again using GridSearchCV...\n",
    "\n",
    "lo que cambia de usar GridSearchCV o RandomizedSearchCV es que en lugar de escribir:\n",
    " param_distributions=rf_grid... usamos param_grid=...\n",
    " \n",
    "\" rs_rf = RandomizedSearchCV(RandomForestClassifier(), \n",
    "                           param_distributions=rf_grid,\n",
    "                           cv=5,\n",
    "                           n_iter=20,\n",
    "                           verbose=True)\n",
    " \"..."
   ]
  },
  {
   "cell_type": "code",
   "execution_count": 337,
   "metadata": {},
   "outputs": [],
   "source": [
    "# Create a hyperparameter grid for RandomForestClassifier\n",
    "rf_grid = {\"n_estimators\": np.arange(10, 100, 50),\n",
    "           \"max_depth\": [None, 3, 5, 10],\n",
    "           \"min_samples_split\": np.arange(2, 20, 2),\n",
    "           \"min_samples_leaf\": np.arange(1, 20, 2)}\n",
    "\n",
    "\n",
    "# Setup grid hyperparameter search for LogisticRegression\n",
    "gs_rf = GridSearchCV(RandomForestClassifier(),\n",
    "                          param_grid=rf_grid,\n",
    "                          cv=5,\n",
    "                          verbose=True)\n"
   ]
  },
  {
   "cell_type": "code",
   "execution_count": 338,
   "metadata": {},
   "outputs": [
    {
     "name": "stdout",
     "output_type": "stream",
     "text": [
      "Fitting 5 folds for each of 720 candidates, totalling 3600 fits\n"
     ]
    },
    {
     "name": "stderr",
     "output_type": "stream",
     "text": [
      "[Parallel(n_jobs=1)]: Using backend SequentialBackend with 1 concurrent workers.\n",
      "[Parallel(n_jobs=1)]: Done 3600 out of 3600 | elapsed: 19.9min finished\n"
     ]
    }
   ],
   "source": [
    "# Fit grid hyperparameter search model\n",
    "gs_rf.fit(X_train, y_train);"
   ]
  },
  {
   "cell_type": "code",
   "execution_count": 339,
   "metadata": {},
   "outputs": [
    {
     "data": {
      "text/plain": [
       "{'max_depth': None,\n",
       " 'min_samples_leaf': 1,\n",
       " 'min_samples_split': 2,\n",
       " 'n_estimators': 60}"
      ]
     },
     "execution_count": 339,
     "metadata": {},
     "output_type": "execute_result"
    }
   ],
   "source": [
    "# Check the best hyperparmaters\n",
    "gs_rf.best_params_\n"
   ]
  },
  {
   "cell_type": "code",
   "execution_count": 340,
   "metadata": {},
   "outputs": [
    {
     "data": {
      "text/plain": [
       "0.8375"
      ]
     },
     "execution_count": 340,
     "metadata": {},
     "output_type": "execute_result"
    }
   ],
   "source": [
    "# Evaluate the grid search LogisticRegression model\n",
    "gs_rf.score(X_test, y_test)\n"
   ]
  },
  {
   "cell_type": "markdown",
   "metadata": {},
   "source": [
    "## Evaluting our tuned machine learning classifier, beyond accuracy\n",
    "- ROC curve and AUC score\n",
    "- Confusion matrix\n",
    "- Classification report\n",
    "- Precision\n",
    "- Recall\n",
    "- F1-score\n",
    "... and it would be great if cross-validation was used where possible.\n",
    "\n",
    "To make comparisons and evaluate our trained model, first we need to make predictions."
   ]
  },
  {
   "cell_type": "code",
   "execution_count": 341,
   "metadata": {},
   "outputs": [],
   "source": [
    "# Make predictions with tuned model\n",
    "y_preds = gs_rf.predict(X_test)"
   ]
  },
  {
   "cell_type": "code",
   "execution_count": 342,
   "metadata": {},
   "outputs": [
    {
     "data": {
      "text/plain": [
       "array([1, 0, 1, ..., 0, 1, 0])"
      ]
     },
     "execution_count": 342,
     "metadata": {},
     "output_type": "execute_result"
    }
   ],
   "source": [
    "\n",
    "y_preds"
   ]
  },
  {
   "cell_type": "code",
   "execution_count": 343,
   "metadata": {},
   "outputs": [
    {
     "data": {
      "text/plain": [
       "4922    1\n",
       "4856    0\n",
       "366     1\n",
       "3597    0\n",
       "1897    1\n",
       "       ..\n",
       "5767    0\n",
       "3524    0\n",
       "1616    0\n",
       "3208    1\n",
       "3931    0\n",
       "Name: target, Length: 1280, dtype: int64"
      ]
     },
     "execution_count": 343,
     "metadata": {},
     "output_type": "execute_result"
    }
   ],
   "source": [
    "\n",
    "y_test"
   ]
  },
  {
   "cell_type": "code",
   "execution_count": 344,
   "metadata": {},
   "outputs": [
    {
     "data": {
      "text/plain": [
       "<sklearn.metrics._plot.roc_curve.RocCurveDisplay at 0x11c7acee0>"
      ]
     },
     "execution_count": 344,
     "metadata": {},
     "output_type": "execute_result"
    },
    {
     "data": {
      "image/png": "[encoded data removed]",
      "text/plain": [
       "<Figure size 432x288 with 1 Axes>"
      ]
     },
     "metadata": {
      "needs_background": "light"
     },
     "output_type": "display_data"
    }
   ],
   "source": [
    "# Plot ROC curve and calculate and calculate AUC metric\n",
    "plot_roc_curve(gs_rf, X_test, y_test)"
   ]
  },
  {
   "cell_type": "code",
   "execution_count": 345,
   "metadata": {},
   "outputs": [
    {
     "name": "stdout",
     "output_type": "stream",
     "text": [
      "[[507 127]\n",
      " [ 81 565]]\n"
     ]
    }
   ],
   "source": [
    "# Confusion matrix\n",
    "print(confusion_matrix(y_test, y_preds))"
   ]
  },
  {
   "cell_type": "code",
   "execution_count": 346,
   "metadata": {},
   "outputs": [
    {
     "data": {
      "image/png": "[encoded data removed]",
      "text/plain": [
       "<Figure size 216x216 with 1 Axes>"
      ]
     },
     "metadata": {},
     "output_type": "display_data"
    }
   ],
   "source": [
    "sns.set(font_scale=1.5)\n",
    "\n",
    "def plot_conf_mat(y_test, y_preds):\n",
    "    \"\"\"\n",
    "    Plots a nice looking confusion matrix using Seaborn's heatmap()\n",
    "    \"\"\"\n",
    "    fig, ax = plt.subplots(figsize=(3, 3))\n",
    "    ax = sns.heatmap(confusion_matrix(y_test, y_preds),\n",
    "                     annot=True,\n",
    "                     cbar=False)\n",
    "    plt.xlabel(\"True label\")\n",
    "    plt.ylabel(\"Predicted label\")\n",
    "    \n",
    "    bottom, top = ax.get_ylim()\n",
    "    ax.set_ylim(bottom + 0.5, top - 0.5)\n",
    "    \n",
    "plot_conf_mat(y_test, y_preds)"
   ]
  },
  {
   "cell_type": "markdown",
   "metadata": {},
   "source": [
    "Now we've got a ROC curve, an AUC metric and a confusion matrix, \n",
    "let's get a classification report as well as cross-validated precision, recall and f1-score."
   ]
  },
  {
   "cell_type": "code",
   "execution_count": 354,
   "metadata": {},
   "outputs": [],
   "source": [
    "from sklearn.metrics import classification_report"
   ]
  },
  {
   "cell_type": "code",
   "execution_count": 355,
   "metadata": {},
   "outputs": [
    {
     "name": "stdout",
     "output_type": "stream",
     "text": [
      "              precision    recall  f1-score   support\n",
      "\n",
      "           0       0.86      0.80      0.83       634\n",
      "           1       0.82      0.87      0.84       646\n",
      "\n",
      "    accuracy                           0.84      1280\n",
      "   macro avg       0.84      0.84      0.84      1280\n",
      "weighted avg       0.84      0.84      0.84      1280\n",
      "\n"
     ]
    }
   ],
   "source": [
    "print(classification_report(y_test, y_preds))"
   ]
  },
  {
   "cell_type": "markdown",
   "metadata": {},
   "source": [
    "## Calculate evaluation metrics using cross-validation\n",
    "We're going to calculate accuracy, precision, recall and f1-score of our model using cross-validation and to do so we'll be using cross_val_score()."
   ]
  },
  {
   "cell_type": "markdown",
   "metadata": {},
   "source": [
    "we only make predictions on the dataset test (pred comes from test dataset, so we need a cross validation\n",
    "\n",
    "Precision: indicates the proportion of positive identification so a.k.a. the model\n",
    "predicts Class 1 which is has heart disease which were actually correct.(565?)\n",
    "[[507 127]\n",
    " [ 81 565]]\n",
    "  \n",
    "So a model which produces no false positives right.\n",
    "So false positive up here is false positive predicted one when it's supposed to be zero.\n",
    "A model which predicts none of these has a precision of one point zero.\n",
    "Precision now recall indicates the proportion of actual positives which were correctly classified\n",
    "\n",
    "Recall: so a model which produces no false negatives has a recall of one.\n",
    "So model which produces no false negatives so remember false negatives where the model predicts zero\n",
    "\n"
   ]
  },
  {
   "cell_type": "code",
   "execution_count": 356,
   "metadata": {},
   "outputs": [
    {
     "data": {
      "text/plain": [
       "{'max_depth': None,\n",
       " 'min_samples_leaf': 1,\n",
       " 'min_samples_split': 2,\n",
       " 'n_estimators': 60}"
      ]
     },
     "execution_count": 356,
     "metadata": {},
     "output_type": "execute_result"
    }
   ],
   "source": [
    "# Check best hyperparameters\n",
    "gs_rf.best_params_"
   ]
  },
  {
   "cell_type": "code",
   "execution_count": 359,
   "metadata": {},
   "outputs": [],
   "source": [
    "# Create a new classifier with best parameters\n",
    "clf = RandomForestClassifier(max_depth= None,\n",
    " min_samples_leaf= 1,\n",
    " min_samples_split= 2,\n",
    " n_estimators= 60)"
   ]
  },
  {
   "cell_type": "code",
   "execution_count": 360,
   "metadata": {},
   "outputs": [
    {
     "data": {
      "text/plain": [
       "array([0.8296875 , 0.85      , 0.8375    , 0.84910086, 0.84519156])"
      ]
     },
     "execution_count": 360,
     "metadata": {},
     "output_type": "execute_result"
    }
   ],
   "source": [
    "# Cross-validated accuracy\n",
    "cv_acc = cross_val_score(clf,\n",
    "                         X,\n",
    "                         y,\n",
    "                         cv=5,\n",
    "                         scoring=\"accuracy\")\n",
    "cv_acc"
   ]
  },
  {
   "cell_type": "code",
   "execution_count": 361,
   "metadata": {},
   "outputs": [
    {
     "data": {
      "text/plain": [
       "0.8422959831899922"
      ]
     },
     "execution_count": 361,
     "metadata": {},
     "output_type": "execute_result"
    }
   ],
   "source": [
    "cv_acc = np.mean(cv_acc)\n",
    "cv_acc"
   ]
  },
  {
   "cell_type": "code",
   "execution_count": 367,
   "metadata": {},
   "outputs": [],
   "source": [
    "# Cross-validated precision\n",
    "cv_precision = cross_val_score(clf,\n",
    "                         X,\n",
    "                         y,\n",
    "                         cv=5,\n",
    "                         scoring=\"precision\")\n",
    "cv_precision=np.mean(cv_precision)"
   ]
  },
  {
   "cell_type": "code",
   "execution_count": 366,
   "metadata": {},
   "outputs": [],
   "source": [
    "cv_precision=np.mean(cv_precision)"
   ]
  },
  {
   "cell_type": "code",
   "execution_count": 365,
   "metadata": {},
   "outputs": [
    {
     "data": {
      "text/plain": [
       "0.8846478873239436"
      ]
     },
     "execution_count": 365,
     "metadata": {},
     "output_type": "execute_result"
    }
   ],
   "source": [
    "# Cross-validated recall\n",
    "cv_recall = cross_val_score(clf,\n",
    "                         X,\n",
    "                         y,\n",
    "                         cv=5,\n",
    "                         scoring=\"recall\")\n",
    "cv_recall = np.mean(cv_recall)\n",
    "cv_recall"
   ]
  },
  {
   "cell_type": "code",
   "execution_count": 368,
   "metadata": {},
   "outputs": [
    {
     "data": {
      "text/plain": [
       "0.851343032150522"
      ]
     },
     "execution_count": 368,
     "metadata": {},
     "output_type": "execute_result"
    }
   ],
   "source": [
    "# Cross-validated f1-score\n",
    "cv_f1 = cross_val_score(clf,\n",
    "                         X,\n",
    "                         y,\n",
    "                         cv=5,\n",
    "                         scoring=\"f1\")\n",
    "cv_f1 = np.mean(cv_f1)\n",
    "cv_f1"
   ]
  },
  {
   "cell_type": "code",
   "execution_count": 369,
   "metadata": {},
   "outputs": [
    {
     "data": {
      "image/png": "[encoded data removed]",
      "text/plain": [
       "<Figure size 432x288 with 1 Axes>"
      ]
     },
     "metadata": {},
     "output_type": "display_data"
    }
   ],
   "source": [
    "# Visualize cross-validated metrics\n",
    "cv_metrics = pd.DataFrame({\"Accuracy\": cv_acc,\n",
    "                           \"Precision\": cv_precision,\n",
    "                           \"Recall\": cv_recall,\n",
    "                           \"F1\": cv_f1},\n",
    "                          index=[0])\n",
    "\n",
    "cv_metrics.T.plot.bar(title=\"Cross-validated classification metrics\",\n",
    "                      legend=False);"
   ]
  },
  {
   "cell_type": "markdown",
   "metadata": {},
   "source": [
    "# Feature Importance\n",
    "Feature importance is another as asking, \"which features contributed most to the outcomes of the model and how did they contribute?\"\n",
    "\n",
    "Finding feature importance is different for each machine learning model. One way to find feature importance is to search for \"(MODEL NAME) feature importance\".\n",
    "\n",
    "Let's find the feature importance for our RandomForestClassifier model...\n",
    "\n"
   ]
  },
  {
   "cell_type": "code",
   "execution_count": 448,
   "metadata": {},
   "outputs": [],
   "source": [
    "# Fit an instance of RandomForestClasifier\n",
    "clf = RandomForestClassifier(max_depth= None,\n",
    " min_samples_leaf= 1,\n",
    " min_samples_split= 2,\n",
    " n_estimators= 60)\n",
    "\n",
    "clf.fit(X_train, y_train);"
   ]
  },
  {
   "cell_type": "code",
   "execution_count": 411,
   "metadata": {},
   "outputs": [
    {
     "data": {
      "text/html": [
       "<div>\n",
       "<style scoped>\n",
       "    .dataframe tbody tr th:only-of-type {\n",
       "        vertical-align: middle;\n",
       "    }\n",
       "\n",
       "    .dataframe tbody tr th {\n",
       "        vertical-align: top;\n",
       "    }\n",
       "\n",
       "    .dataframe thead th {\n",
       "        text-align: right;\n",
       "    }\n",
       "</style>\n",
       "<table border=\"1\" class=\"dataframe\">\n",
       "  <thead>\n",
       "    <tr style=\"text-align: right;\">\n",
       "      <th></th>\n",
       "      <th>track</th>\n",
       "      <th>artist</th>\n",
       "      <th>uri</th>\n",
       "      <th>danceability</th>\n",
       "      <th>energy</th>\n",
       "      <th>key</th>\n",
       "      <th>loudness</th>\n",
       "      <th>mode</th>\n",
       "      <th>speechiness</th>\n",
       "      <th>acousticness</th>\n",
       "      <th>instrumentalness</th>\n",
       "      <th>liveness</th>\n",
       "      <th>valence</th>\n",
       "      <th>tempo</th>\n",
       "      <th>duration_ms</th>\n",
       "      <th>time_signature</th>\n",
       "      <th>chorus_hit</th>\n",
       "      <th>sections</th>\n",
       "      <th>target</th>\n",
       "      <th>track_is_missing</th>\n",
       "      <th>artist_is_missing</th>\n",
       "      <th>uri_is_missing</th>\n",
       "    </tr>\n",
       "  </thead>\n",
       "  <tbody>\n",
       "    <tr>\n",
       "      <th>0</th>\n",
       "      <td>5742</td>\n",
       "      <td>113</td>\n",
       "      <td>2121</td>\n",
       "      <td>0.741</td>\n",
       "      <td>0.626</td>\n",
       "      <td>1</td>\n",
       "      <td>-4.826</td>\n",
       "      <td>0</td>\n",
       "      <td>0.0886</td>\n",
       "      <td>0.02000</td>\n",
       "      <td>0.000</td>\n",
       "      <td>0.0828</td>\n",
       "      <td>0.706</td>\n",
       "      <td>108.029</td>\n",
       "      <td>188493</td>\n",
       "      <td>4</td>\n",
       "      <td>41.18681</td>\n",
       "      <td>10</td>\n",
       "      <td>1</td>\n",
       "      <td>False</td>\n",
       "      <td>False</td>\n",
       "      <td>False</td>\n",
       "    </tr>\n",
       "    <tr>\n",
       "      <th>1</th>\n",
       "      <td>4880</td>\n",
       "      <td>976</td>\n",
       "      <td>4916</td>\n",
       "      <td>0.447</td>\n",
       "      <td>0.247</td>\n",
       "      <td>5</td>\n",
       "      <td>-14.661</td>\n",
       "      <td>0</td>\n",
       "      <td>0.0346</td>\n",
       "      <td>0.87100</td>\n",
       "      <td>0.814</td>\n",
       "      <td>0.0946</td>\n",
       "      <td>0.250</td>\n",
       "      <td>155.489</td>\n",
       "      <td>176880</td>\n",
       "      <td>3</td>\n",
       "      <td>33.18083</td>\n",
       "      <td>9</td>\n",
       "      <td>0</td>\n",
       "      <td>False</td>\n",
       "      <td>False</td>\n",
       "      <td>False</td>\n",
       "    </tr>\n",
       "    <tr>\n",
       "      <th>2</th>\n",
       "      <td>3069</td>\n",
       "      <td>1863</td>\n",
       "      <td>1930</td>\n",
       "      <td>0.550</td>\n",
       "      <td>0.415</td>\n",
       "      <td>9</td>\n",
       "      <td>-6.557</td>\n",
       "      <td>0</td>\n",
       "      <td>0.0520</td>\n",
       "      <td>0.16100</td>\n",
       "      <td>0.000</td>\n",
       "      <td>0.1080</td>\n",
       "      <td>0.274</td>\n",
       "      <td>172.065</td>\n",
       "      <td>205463</td>\n",
       "      <td>4</td>\n",
       "      <td>44.89147</td>\n",
       "      <td>9</td>\n",
       "      <td>1</td>\n",
       "      <td>False</td>\n",
       "      <td>False</td>\n",
       "      <td>False</td>\n",
       "    </tr>\n",
       "    <tr>\n",
       "      <th>3</th>\n",
       "      <td>3417</td>\n",
       "      <td>1612</td>\n",
       "      <td>520</td>\n",
       "      <td>0.502</td>\n",
       "      <td>0.648</td>\n",
       "      <td>0</td>\n",
       "      <td>-5.698</td>\n",
       "      <td>0</td>\n",
       "      <td>0.0527</td>\n",
       "      <td>0.00513</td>\n",
       "      <td>0.000</td>\n",
       "      <td>0.2040</td>\n",
       "      <td>0.291</td>\n",
       "      <td>91.837</td>\n",
       "      <td>193043</td>\n",
       "      <td>4</td>\n",
       "      <td>29.52521</td>\n",
       "      <td>7</td>\n",
       "      <td>0</td>\n",
       "      <td>False</td>\n",
       "      <td>False</td>\n",
       "      <td>False</td>\n",
       "    </tr>\n",
       "    <tr>\n",
       "      <th>4</th>\n",
       "      <td>2693</td>\n",
       "      <td>3300</td>\n",
       "      <td>1491</td>\n",
       "      <td>0.807</td>\n",
       "      <td>0.887</td>\n",
       "      <td>1</td>\n",
       "      <td>-3.892</td>\n",
       "      <td>1</td>\n",
       "      <td>0.2750</td>\n",
       "      <td>0.00381</td>\n",
       "      <td>0.000</td>\n",
       "      <td>0.3910</td>\n",
       "      <td>0.780</td>\n",
       "      <td>160.517</td>\n",
       "      <td>144244</td>\n",
       "      <td>4</td>\n",
       "      <td>24.99199</td>\n",
       "      <td>8</td>\n",
       "      <td>1</td>\n",
       "      <td>False</td>\n",
       "      <td>False</td>\n",
       "      <td>False</td>\n",
       "    </tr>\n",
       "  </tbody>\n",
       "</table>\n",
       "</div>"
      ],
      "text/plain": [
       "   track  artist   uri  danceability  energy  key  loudness  mode  speechiness  acousticness  instrumentalness  liveness  valence    tempo  duration_ms  time_signature  chorus_hit  sections  target  track_is_missing  artist_is_missing  uri_is_missing\n",
       "0  5742   113     2121  0.741         0.626   1   -4.826     0     0.0886       0.02000       0.000             0.0828    0.706    108.029  188493       4               41.18681    10        1       False             False              False         \n",
       "1  4880   976     4916  0.447         0.247   5   -14.661    0     0.0346       0.87100       0.814             0.0946    0.250    155.489  176880       3               33.18083    9         0       False             False              False         \n",
       "2  3069   1863    1930  0.550         0.415   9   -6.557     0     0.0520       0.16100       0.000             0.1080    0.274    172.065  205463       4               44.89147    9         1       False             False              False         \n",
       "3  3417   1612    520   0.502         0.648   0   -5.698     0     0.0527       0.00513       0.000             0.2040    0.291    91.837   193043       4               29.52521    7         0       False             False              False         \n",
       "4  2693   3300    1491  0.807         0.887   1   -3.892     1     0.2750       0.00381       0.000             0.3910    0.780    160.517  144244       4               24.99199    8         1       False             False              False         "
      ]
     },
     "execution_count": 411,
     "metadata": {},
     "output_type": "execute_result"
    }
   ],
   "source": [
    "df_tmp.head()"
   ]
  },
  {
   "cell_type": "code",
   "execution_count": 449,
   "metadata": {},
   "outputs": [
    {
     "data": {
      "text/plain": [
       "array([0.03049775, 0.03900209, 0.02971677, 0.08657405, 0.0795029 ,\n",
       "       0.01753137, 0.09379303, 0.00520059, 0.04151179, 0.08719704,\n",
       "       0.24713666, 0.03177949, 0.05704826, 0.03295138, 0.0626974 ,\n",
       "       0.00597797, 0.03184859, 0.02003288, 0.        , 0.        ,\n",
       "       0.        ])"
      ]
     },
     "execution_count": 449,
     "metadata": {},
     "output_type": "execute_result"
    }
   ],
   "source": [
    "# Check feature_importance(because is a RandomForestclassifier, Random forest \n",
    "#is an ensemble of decision trees, it is not a linear model. Sklearn provides \n",
    "#importance of individual features which were used to train a random forest classifier or regressor. \n",
    "#It can be accessed as follows, and returns an array of decimals which sum to 1. \n",
    "#With a Logistic regression classifier use coef_\n",
    "clf.feature_importances_"
   ]
  },
  {
   "cell_type": "markdown",
   "metadata": {},
   "source": [
    "the .feature_importances_ attribute just prints an array of numbers. It doesn’t tell you which numbers correspond to which variables. so Ill try...\n",
    "I’ll run through a snippet of code that will return the feature importances in a DateFrame with their respective variable names.\n"
   ]
  },
  {
   "cell_type": "code",
   "execution_count": 453,
   "metadata": {},
   "outputs": [
    {
     "data": {
      "text/html": [
       "<div>\n",
       "<style scoped>\n",
       "    .dataframe tbody tr th:only-of-type {\n",
       "        vertical-align: middle;\n",
       "    }\n",
       "\n",
       "    .dataframe tbody tr th {\n",
       "        vertical-align: top;\n",
       "    }\n",
       "\n",
       "    .dataframe thead th {\n",
       "        text-align: right;\n",
       "    }\n",
       "</style>\n",
       "<table border=\"1\" class=\"dataframe\">\n",
       "  <thead>\n",
       "    <tr style=\"text-align: right;\">\n",
       "      <th></th>\n",
       "      <th>importance</th>\n",
       "    </tr>\n",
       "  </thead>\n",
       "  <tbody>\n",
       "    <tr>\n",
       "      <th>instrumentalness</th>\n",
       "      <td>0.247137</td>\n",
       "    </tr>\n",
       "    <tr>\n",
       "      <th>loudness</th>\n",
       "      <td>0.093793</td>\n",
       "    </tr>\n",
       "    <tr>\n",
       "      <th>acousticness</th>\n",
       "      <td>0.087197</td>\n",
       "    </tr>\n",
       "    <tr>\n",
       "      <th>danceability</th>\n",
       "      <td>0.086574</td>\n",
       "    </tr>\n",
       "    <tr>\n",
       "      <th>energy</th>\n",
       "      <td>0.079503</td>\n",
       "    </tr>\n",
       "    <tr>\n",
       "      <th>duration_ms</th>\n",
       "      <td>0.062697</td>\n",
       "    </tr>\n",
       "    <tr>\n",
       "      <th>valence</th>\n",
       "      <td>0.057048</td>\n",
       "    </tr>\n",
       "    <tr>\n",
       "      <th>speechiness</th>\n",
       "      <td>0.041512</td>\n",
       "    </tr>\n",
       "    <tr>\n",
       "      <th>artist</th>\n",
       "      <td>0.039002</td>\n",
       "    </tr>\n",
       "    <tr>\n",
       "      <th>tempo</th>\n",
       "      <td>0.032951</td>\n",
       "    </tr>\n",
       "    <tr>\n",
       "      <th>chorus_hit</th>\n",
       "      <td>0.031849</td>\n",
       "    </tr>\n",
       "    <tr>\n",
       "      <th>liveness</th>\n",
       "      <td>0.031779</td>\n",
       "    </tr>\n",
       "    <tr>\n",
       "      <th>track</th>\n",
       "      <td>0.030498</td>\n",
       "    </tr>\n",
       "    <tr>\n",
       "      <th>uri</th>\n",
       "      <td>0.029717</td>\n",
       "    </tr>\n",
       "    <tr>\n",
       "      <th>sections</th>\n",
       "      <td>0.020033</td>\n",
       "    </tr>\n",
       "    <tr>\n",
       "      <th>key</th>\n",
       "      <td>0.017531</td>\n",
       "    </tr>\n",
       "    <tr>\n",
       "      <th>time_signature</th>\n",
       "      <td>0.005978</td>\n",
       "    </tr>\n",
       "    <tr>\n",
       "      <th>mode</th>\n",
       "      <td>0.005201</td>\n",
       "    </tr>\n",
       "    <tr>\n",
       "      <th>track_is_missing</th>\n",
       "      <td>0.000000</td>\n",
       "    </tr>\n",
       "    <tr>\n",
       "      <th>artist_is_missing</th>\n",
       "      <td>0.000000</td>\n",
       "    </tr>\n",
       "    <tr>\n",
       "      <th>uri_is_missing</th>\n",
       "      <td>0.000000</td>\n",
       "    </tr>\n",
       "  </tbody>\n",
       "</table>\n",
       "</div>"
      ],
      "text/plain": [
       "                   importance\n",
       "instrumentalness   0.247137  \n",
       "loudness           0.093793  \n",
       "acousticness       0.087197  \n",
       "danceability       0.086574  \n",
       "energy             0.079503  \n",
       "duration_ms        0.062697  \n",
       "valence            0.057048  \n",
       "speechiness        0.041512  \n",
       "artist             0.039002  \n",
       "tempo              0.032951  \n",
       "chorus_hit         0.031849  \n",
       "liveness           0.031779  \n",
       "track              0.030498  \n",
       "uri                0.029717  \n",
       "sections           0.020033  \n",
       "key                0.017531  \n",
       "time_signature     0.005978  \n",
       "mode               0.005201  \n",
       "track_is_missing   0.000000  \n",
       "artist_is_missing  0.000000  \n",
       "uri_is_missing     0.000000  "
      ]
     },
     "execution_count": 453,
     "metadata": {},
     "output_type": "execute_result"
    }
   ],
   "source": [
    "import pandas as pd\n",
    "feature_importances = pd.DataFrame(clf.feature_importances_,\n",
    "                                   index = X_train.columns,\n",
    "                                    columns=['importance']).sort_values('importance',\n",
    "                                                                        ascending=False)\n",
    "feature_importances"
   ]
  },
  {
   "cell_type": "code",
   "execution_count": 460,
   "metadata": {},
   "outputs": [
    {
     "data": {
      "image/png": "[encoded data removed]",
      "text/plain": [
       "<Figure size 432x288 with 1 Axes>"
      ]
     },
     "metadata": {
      "needs_background": "light"
     },
     "output_type": "display_data"
    }
   ],
   "source": [
    "# Visualize feature importance\n",
    "#feature_importances = pd.DataFrame(feature_dict, index=[0])\n",
    "feature_importances.T.plot.bar(title=\"Feature Importance\", legend=False);"
   ]
  },
  {
   "cell_type": "code",
   "execution_count": null,
   "metadata": {},
   "outputs": [],
   "source": []
  }
 ],
 "metadata": {
  "kernelspec": {
   "display_name": "Python 3",
   "language": "python",
   "name": "python3"
  },
  "language_info": {
   "codemirror_mode": {
    "name": "ipython",
    "version": 3
   },
   "file_extension": ".py",
   "mimetype": "text/x-python",
   "name": "python",
   "nbconvert_exporter": "python",
   "pygments_lexer": "ipython3",
   "version": "3.8.2"
  }
 },
 "nbformat": 4,
 "nbformat_minor": 4
}
